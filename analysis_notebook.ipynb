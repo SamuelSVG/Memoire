{
 "cells": [
  {
   "metadata": {},
   "cell_type": "markdown",
   "source": "# Setup cell",
   "id": "2070b3715d8a814c"
  },
  {
   "metadata": {},
   "cell_type": "code",
   "source": [
    "# Setup cell\n",
    "import os\n",
    "\n",
    "from dotenv import load_dotenv\n",
    "import pandas as pd\n",
    "import logging\n",
    "\n",
    "import bitbucket\n",
    "from git_operations import compare_git_clone_speed\n",
    "from metrics import Metrics\n",
    "from platform_analysis import get_most_present_owner, get_unique_owner_number\n",
    "from platforms import Platforms\n",
    "import github\n",
    "import gitea_forgejo\n",
    "import gitlab\n",
    "import platform_analysis\n",
    "\n",
    "# Set up logging\n",
    "logging.basicConfig(level=logging.INFO)\n",
    "logger = logging.getLogger(__name__)\n",
    "\n",
    "# Load environment variables from .env file\n",
    "load_dotenv()\n",
    "\n",
    "# Load tokens from environment variables\n",
    "GITHUB_TOKEN = os.getenv(\"GITHUB_TOKEN\")\n",
    "GITLAB_TOKEN = os.getenv(\"GITLAB_TOKEN\")\n",
    "GITEA_TOKEN = os.getenv(\"GITEA_TOKEN\")\n",
    "FORGEJO_TOKEN = os.getenv(\"FORGEJO_TOKEN\")\n",
    "BITBUCKET_TOKEN = os.getenv(\"BITBUCKET_TOKEN\")\n",
    "\n",
    "# Set up headers for API requests\n",
    "GITHUB_HEADERS = {\"Authorization\": f\"token {GITHUB_TOKEN}\"}\n",
    "GITEA_HEADERS = {\"Authorization\": f\"token {GITEA_TOKEN}\"}\n",
    "FORGEJO_HEADERS = {\"Authorization\": f\"token {FORGEJO_TOKEN}\"}\n",
    "GITLAB_HEADERS = {\"Authorization\": f\"Bearer {GITLAB_TOKEN}\"}\n",
    "BITBUCKET_HEADERS = {\"Authorization\": f\"Bearer {BITBUCKET_TOKEN}\"}\n",
    "\n",
    "# Initialize platform instances\n",
    "github_instance = github.GitHub(GITHUB_HEADERS)\n",
    "gitea_instance = gitea_forgejo.GiteaForgejo(GITEA_HEADERS)\n",
    "forgejo_instance = gitea_forgejo.GiteaForgejo(FORGEJO_HEADERS)\n",
    "gitlab_instance = gitlab.Gitlab(GITLAB_HEADERS)\n",
    "bitbucket_instance = bitbucket.Bitbucket(BITBUCKET_HEADERS)"
   ],
   "id": "21541a08591de955",
   "outputs": [],
   "execution_count": null
  },
  {
   "metadata": {},
   "cell_type": "markdown",
   "source": "# Code Demo",
   "id": "33d92373628793d5"
  },
  {
   "metadata": {},
   "cell_type": "code",
   "source": [
    "# Fetch a given number of GitHub repositories\n",
    "data = github_instance.fetch_repositories(50)\n",
    "file_name = \"temp.csv\"\n",
    "\n",
    "# Save the gathered data to a CSV file\n",
    "if data:\n",
    "    df = pd.DataFrame(data)\n",
    "    df.to_csv(file_name, index=False)\n",
    "    logger.info(f\"Saved repositories to '{file_name}'.\")\n",
    "else:\n",
    "    logger.error(\"No repositories were fetched.\")"
   ],
   "id": "733f117d7e252fa",
   "outputs": [],
   "execution_count": null
  },
  {
   "metadata": {},
   "cell_type": "code",
   "source": [
    "input_file = \"temp.csv\"\n",
    "output_file = \"temp2.csv\"\n",
    "# Load the csv file that contains the repositories\n",
    "df = pd.read_csv(input_file)\n",
    "final_df = pd.read_csv(output_file)\n",
    "\n",
    "df = github_instance.select_clonable_repositories(df, Platforms.GITHUB, 10)\n",
    "\n",
    "# Save updated CSV\n",
    "df.to_csv(output_file, index=False)\n",
    "logger.info(f\"Done! Updated file saved as {output_file}\")"
   ],
   "id": "c93674f9fe10730d",
   "outputs": [],
   "execution_count": null
  },
  {
   "metadata": {},
   "cell_type": "code",
   "source": [
    "input_file = \"temp2.csv\"\n",
    "output_file = \"temp2.csv\"\n",
    "\n",
    "# Load the csv file that contains the repositories\n",
    "df = pd.read_csv(input_file)\n",
    "\n",
    "# Add a chosen metric for each repository of the DataFrame\n",
    "github_instance.add_metric(df, Metrics.ISSUE)\n",
    "github_instance.add_metric(df, Metrics.PULL_REQUEST)\n",
    "\n",
    "# Save updated CSV\n",
    "df.to_csv(output_file, index=False)\n",
    "logger.info(f\"Done! Updated file saved as {output_file}\")"
   ],
   "id": "92386b821eb12ae6",
   "outputs": [],
   "execution_count": null
  },
  {
   "metadata": {},
   "cell_type": "markdown",
   "source": "# Analysis Code",
   "id": "4e26205d7ced1d92"
  },
  {
   "metadata": {},
   "cell_type": "code",
   "source": [
    "import time\n",
    "\n",
    "start_time = time.time()  # Record start time\n",
    "\n",
    "github_instance.fetch_repositories(5000)\n",
    "\n",
    "end_time = time.time()  # Record end time\n",
    "duration = end_time - start_time  # Calculate duration\n",
    "\n",
    "print(f\"Function executed in {duration:.2f} seconds.\")"
   ],
   "id": "ec4f02486226b0c8",
   "outputs": [],
   "execution_count": null
  },
  {
   "metadata": {},
   "cell_type": "code",
   "source": [
    "input_file = \"temp.csv\"\n",
    "output_file = \"temp2.csv\"\n",
    "\n",
    "df = pd.read_csv(input_file)\n",
    "compare_git_clone_speed(df, Platforms.GITHUB)\n",
    "\n",
    "# Save updated CSV\n",
    "df.to_csv(output_file, index=False)"
   ],
   "id": "dab808c15f9c3fb1",
   "outputs": [],
   "execution_count": null
  },
  {
   "metadata": {},
   "cell_type": "code",
   "source": [
    "import pandas as pd\n",
    "import matplotlib.pyplot as plt\n",
    "\n",
    "input_file = \"temp2.csv\"\n",
    "\n",
    "df = pd.read_csv(input_file)\n",
    "\n",
    "# Example: df is your dataframe with 'shallow_clone_time' and 'full_clone_time'\n",
    "faster_method = df['shallow_clone_time'] < df['full_clone_time']\n",
    "# Count how many were faster for shallow or full\n",
    "shallow_faster = faster_method.sum()\n",
    "full_faster = len(df) - shallow_faster\n",
    "\n",
    "# Convert to percentages\n",
    "total = len(df)\n",
    "percentages = {\n",
    "    'Shallow clone': (shallow_faster / total) * 100,\n",
    "    'Clone complet': (full_faster / total) * 100\n",
    "}\n",
    "\n",
    "\n",
    "# Plot\n",
    "plt.bar(percentages.keys(), percentages.values(), color=['skyblue', 'salmon'])\n",
    "plt.ylabel('Pourcentage de dépôts (%)')\n",
    "plt.ylim(0, 100)\n",
    "\n",
    "# Show percentages on top of bars\n",
    "#for i, v in enumerate(percentages.values()):\n",
    "    #plt.text(i, v + 1, f\"{v:.1f}%\", ha='center', fontweight='bold')\n",
    "\n",
    "plt.savefig('Figures/clone_speed.png', dpi=300, bbox_inches='tight')\n",
    "\n",
    "plt.show()\n",
    "\n",
    "print(\"Somme des temps de clonage :\")\n",
    "print(df[['shallow_clone_time', 'full_clone_time']].sum())\n",
    "\n"
   ],
   "id": "cfdbd592c628137f",
   "outputs": [],
   "execution_count": null
  },
  {
   "metadata": {},
   "cell_type": "markdown",
   "source": "# Fetching Repositories from Github",
   "id": "7aed5731e871e260"
  },
  {
   "metadata": {},
   "cell_type": "code",
   "source": [
    "# Fetch a given number of GitHub repositories\n",
    "data = github_instance.fetch_repositories(5000)\n",
    "file_name = \"Github_data/github_5k_repositories.csv\"\n",
    "\n",
    "# Save the gathered data to a CSV file\n",
    "if data:\n",
    "    df = pd.DataFrame(data)\n",
    "    df.to_csv(file_name, index=False)\n",
    "    logger.info(f\"Saved repositories to '{file_name}'.\")\n",
    "else:\n",
    "    logger.error(\"No repositories were fetched.\")"
   ],
   "id": "41d9d9690dbc0b3e",
   "outputs": [],
   "execution_count": null
  },
  {
   "metadata": {},
   "cell_type": "markdown",
   "source": "### Select Clonable Github repositories and add Git metrics to the dataframe",
   "id": "2e6c93ba8fe8a5c4"
  },
  {
   "metadata": {},
   "cell_type": "code",
   "source": [
    "input_file = \"Github_data/github_5k_repositories.csv\"\n",
    "output_file = \"Github_data/github_repositories_metrics.csv\"\n",
    "# Load the csv file that contains the repositories\n",
    "df = pd.read_csv(input_file)\n",
    "final_df = pd.read_csv(output_file)\n",
    "\n",
    "df = github_instance.select_clonable_repositories(df, Platforms.GITHUB, 2, final_df)\n",
    "\n",
    "# Save updated CSV\n",
    "df.to_csv(output_file, index=False)\n",
    "logger.info(f\"Done! Updated file saved as {output_file}\")"
   ],
   "id": "d7ba139c7a2b02e8",
   "outputs": [],
   "execution_count": null
  },
  {
   "metadata": {},
   "cell_type": "markdown",
   "source": "### Add Platform specific metrics to the dataframe",
   "id": "19bfd6fd6fbad165"
  },
  {
   "metadata": {},
   "cell_type": "code",
   "source": [
    "input_file = \"temp2.csv\"\n",
    "output_file = \"temp2.csv\"\n",
    "\n",
    "# Load the csv file that contains the repositories\n",
    "df = pd.read_csv(input_file)\n",
    "\n",
    "# Add a chosen metric for each repository of the DataFrame\n",
    "github_instance.add_metric(df, Metrics.ISSUE)\n",
    "github_instance.add_metric(df, Metrics.PULL_REQUEST)\n",
    "\n",
    "# Save updated CSV\n",
    "df.to_csv(output_file, index=False)\n",
    "logger.info(f\"Done! Updated file saved as {output_file}\")"
   ],
   "id": "d2c3e14073cf7bba",
   "outputs": [],
   "execution_count": null
  },
  {
   "metadata": {},
   "cell_type": "markdown",
   "source": "# Fetching Repositories from Gitea",
   "id": "8060a1724478c99c"
  },
  {
   "metadata": {},
   "cell_type": "code",
   "source": [
    "# Fetch a given number of pages of 50 Gitea repositories\n",
    "data = gitea_instance.fetch_repositories(1000, platform=Platforms.GITEA)\n",
    "file_name = \"Gitea_data/gitea_1k_repositories.csv\"\n",
    "\n",
    "# Save the gathered data to a CSV file\n",
    "if data:\n",
    "    df = pd.DataFrame(data)\n",
    "    df.to_csv(file_name, index=False)\n",
    "    logger.info(f\"Saved repositories to '{file_name}'.\")\n",
    "else:\n",
    "    logger.error(\"No repositories were fetched.\")"
   ],
   "id": "38ec13fd063714e",
   "outputs": [],
   "execution_count": null
  },
  {
   "metadata": {},
   "cell_type": "markdown",
   "source": "### Select Clonable Gitea repositories and add Git metrics to the dataframe",
   "id": "c9863d13cb27d62"
  },
  {
   "metadata": {},
   "cell_type": "code",
   "source": [
    "input_file = \"Gitea_data/gitea_2k_repositories.csv\"\n",
    "output_file = \"Gitea_data/gitea_repositories_metrics.csv\"\n",
    "\n",
    "df = pd.read_csv(input_file)\n",
    "final_df = pd.read_csv(output_file)\n",
    "df = gitea_instance.select_clonable_repositories(df, Platforms.GITEA, 100, final_df)\n",
    "df.to_csv(output_file, index=False)\n",
    "\n",
    "logger.info(f\"Done! Updated file saved as {output_file}\")"
   ],
   "id": "6826e58eafd32763",
   "outputs": [],
   "execution_count": null
  },
  {
   "metadata": {},
   "cell_type": "markdown",
   "source": "### Add Platform specific metrics to the dataframe",
   "id": "992f9b2e6604d1b9"
  },
  {
   "metadata": {},
   "cell_type": "code",
   "source": [
    "input_file = \"Gitea_data/gitea_repositories_metrics.csv\"\n",
    "output_file = \"Gitea_data/gitea_repositories_metrics.csv\"\n",
    "\n",
    "# Load the csv file that contains the repositories\n",
    "df = pd.read_csv(input_file)\n",
    "\n",
    "# Add chosen metric for each repository of the DataFrame\n",
    "gitea_instance.add_metric(df, Platforms.GITEA, Metrics.ISSUE)\n",
    "gitea_instance.add_metric(df, Platforms.GITEA, Metrics.PULL_REQUEST)\n",
    "\n",
    "# Save updated CSV\n",
    "df.to_csv(output_file, index=False)\n",
    "logger.info(f\"Done! Updated file saved as {output_file}\")"
   ],
   "id": "3021dd8b20b6d5e6",
   "outputs": [],
   "execution_count": null
  },
  {
   "metadata": {},
   "cell_type": "markdown",
   "source": "# Fetching Repositories from Forgejo",
   "id": "b3c24e4d5a4bca14"
  },
  {
   "metadata": {},
   "cell_type": "code",
   "source": [
    "# Fetch a given number of pages of 50 Forgejo repositories\n",
    "data = forgejo_instance.fetch_repositories(5000, platform=Platforms.FORGEJO)\n",
    "file_name = \"Forgejo_data/forgejo_5k_repositories.csv\"\n",
    "\n",
    "# Save the gathered data to a CSV file\n",
    "if data:\n",
    "    df = pd.DataFrame(data)\n",
    "    df.to_csv(file_name, index=False)\n",
    "    logger.info(f\"Saved repositories to '{file_name}'.\")\n",
    "else:\n",
    "    logger.error(\"No repositories were fetched.\")"
   ],
   "id": "3ec6b4dc057db312",
   "outputs": [],
   "execution_count": null
  },
  {
   "metadata": {},
   "cell_type": "markdown",
   "source": "### Select Clonable Forgejo repositories and add Git metrics to the dataframe",
   "id": "5841f255ac27038c"
  },
  {
   "metadata": {},
   "cell_type": "code",
   "source": [
    "input_file = \"Forgejo_data/forgejo_5k_repositories.csv\"\n",
    "output_file = \"Forgejo_data/forgejo_repositories_metrics.csv\"\n",
    "\n",
    "df = pd.read_csv(input_file)\n",
    "final_df = pd.read_csv(output_file)\n",
    "\n",
    "df = forgejo_instance.select_clonable_repositories(df, Platforms.FORGEJO, 50, final_df)\n",
    "\n",
    "df.to_csv(output_file, index=False)\n",
    "logger.info(f\"Done! Updated file saved as {output_file}\")"
   ],
   "id": "dd4b141d31453d86",
   "outputs": [],
   "execution_count": null
  },
  {
   "metadata": {},
   "cell_type": "markdown",
   "source": "### Add Platform specific metrics to the dataframe",
   "id": "78f428751c3e111c"
  },
  {
   "metadata": {},
   "cell_type": "code",
   "source": [
    "input_file = \"Forgejo_data/forgejo_repositories_metrics.csv\"\n",
    "output_file = \"Forgejo_data/forgejo_repositories_metrics.csv\"\n",
    "\n",
    "# Load the csv file that contains the repositories\n",
    "df = pd.read_csv(input_file)\n",
    "\n",
    "# Add chosen metric for each repository of the DataFrame\n",
    "forgejo_instance.add_metric(df, Platforms.FORGEJO, Metrics.ISSUE)\n",
    "forgejo_instance.add_metric(df, Platforms.FORGEJO, Metrics.PULL_REQUEST)\n",
    "\n",
    "# Save updated CSV\n",
    "df.to_csv(output_file, index=False)\n",
    "logger.info(f\"Done! Updated file saved as {output_file}\")"
   ],
   "id": "618c0fc70f98f236",
   "outputs": [],
   "execution_count": null
  },
  {
   "metadata": {},
   "cell_type": "markdown",
   "source": "# Fetching Repositories from Gitlab",
   "id": "9c5b6f715166226f"
  },
  {
   "metadata": {},
   "cell_type": "code",
   "source": [
    "# Fetch a given number of pages of 100 Gitlab repositories\n",
    "data = gitlab_instance.fetch_repositories(5000)\n",
    "file_name = \"Gitlab_data/gitlab_5k_repositories.csv\"\n",
    "\n",
    "# Save the gathered data to a CSV file\n",
    "if data:\n",
    "    df = pd.DataFrame(data)\n",
    "    df.to_csv(file_name, index=False)\n",
    "    logger.info(f\"Saved repositories to '{file_name}'.\")\n",
    "else:\n",
    "    logger.error(\"No repositories were fetched.\")"
   ],
   "id": "96f13b47763145cc",
   "outputs": [],
   "execution_count": null
  },
  {
   "metadata": {},
   "cell_type": "markdown",
   "source": "### Select Clonable GitLab repositories and add Git metrics to the dataframe",
   "id": "528d3093a8d79f90"
  },
  {
   "metadata": {},
   "cell_type": "code",
   "source": [
    "input_file = \"Gitlab_data/gitlab_5k_repositories.csv\"\n",
    "output_file = \"Gitlab_data/gitlab_repositories_metrics.csv\"\n",
    "\n",
    "df = pd.read_csv(input_file)\n",
    "final_df = pd.read_csv(output_file)\n",
    "\n",
    "df = gitlab_instance.select_clonable_repositories(df, Platforms.GITLAB, 250, final_df)\n",
    "\n",
    "df.to_csv(output_file, index=False)\n",
    "logger.info(f\"Done! Updated file saved as {output_file}\")"
   ],
   "id": "3052ca3ead437777",
   "outputs": [],
   "execution_count": null
  },
  {
   "metadata": {},
   "cell_type": "markdown",
   "source": "### Adding Platform specific metrics to the dataframe",
   "id": "19372464b53db075"
  },
  {
   "metadata": {},
   "cell_type": "code",
   "source": [
    "input_file = \"Gitlab_data/gitlab_repositories_metrics.csv\"\n",
    "output_file = \"Gitlab_data/gitlab_repositories_metrics.csv\"\n",
    "\n",
    "# Load the csv file that contains the repositories\n",
    "df = pd.read_csv(input_file)\n",
    "\n",
    "# Add chosen metric for each repository of the DataFrame\n",
    "gitlab_instance.add_metric(df, Metrics.ISSUE)\n",
    "gitlab_instance.add_metric(df, Metrics.PULL_REQUEST)\n",
    "\n",
    "# Save updated CSV\n",
    "df.to_csv(output_file, index=False)\n",
    "logger.info(f\"Done! Updated file saved as {output_file}\")"
   ],
   "id": "e915e4578c285541",
   "outputs": [],
   "execution_count": null
  },
  {
   "metadata": {},
   "cell_type": "markdown",
   "source": "# Fetching Repositories from Bitbucket",
   "id": "8ec67367ba15bb9f"
  },
  {
   "metadata": {},
   "cell_type": "code",
   "source": [
    "# Fetch a given number of pages of 100 Bitbucket repositories\n",
    "data = bitbucket_instance.fetch_repositories(100)\n",
    "file_name = \"Bitbucket_data/bitbucket_10k_repositories.csv\"\n",
    "\n",
    "# Save the gathered data to a CSV file\n",
    "if data:\n",
    "    df = pd.DataFrame(data)\n",
    "    df.to_csv(file_name, index=False)\n",
    "    logger.info(f\"Saved repositories to '{file_name}'.\")\n",
    "else:\n",
    "    logger.error(\"No repositories were fetched.\")"
   ],
   "id": "b8a63f270bf108cb",
   "outputs": [],
   "execution_count": null
  },
  {
   "metadata": {},
   "cell_type": "markdown",
   "source": "### Sample 1000 clonable repositories",
   "id": "5c35ea119672c1cc"
  },
  {
   "metadata": {},
   "cell_type": "code",
   "source": [
    "input_file = \"Bitbucket_data/bitbucket_10k_repositories.csv\"\n",
    "output_file = \"Bitbucket_data/bitbucket_1k_repositories.csv\"\n",
    "\n",
    "df = pd.read_csv(input_file)\n",
    "df = bitbucket_instance.select_clonable_repositories(df, Platforms.BITBUCKET, 1000)\n",
    "\n",
    "df.to_csv(output_file, index=False)\n",
    "logger.info(f\"Done! Updated file saved as {output_file}\")"
   ],
   "id": "adcb0fe96423aa26",
   "outputs": [],
   "execution_count": null
  },
  {
   "metadata": {},
   "cell_type": "markdown",
   "source": "### Cloning Bitbucket repositories and adding Git metrics to the dataframe",
   "id": "abb3360728cf631f"
  },
  {
   "metadata": {},
   "cell_type": "code",
   "source": [
    "input_file = \"Bitbucket_data/bitbucket_10k_repositories.csv\"\n",
    "output_file = \"Bitbucket_data/bitbucket_repositories_metrics.csv\"\n",
    "# Load the csv file that contains the repositories\n",
    "df = pd.read_csv(input_file)\n",
    "\n",
    "df = bitbucket_instance.select_clonable_repositories(df, Platforms.BITBUCKET, 500)\n",
    "\n",
    "# Save updated CSV\n",
    "df.to_csv(output_file, index=False)\n",
    "logger.info(f\"Done! Updated file saved as {output_file}\")"
   ],
   "id": "60b72c8b365e3932",
   "outputs": [],
   "execution_count": null
  },
  {
   "metadata": {},
   "cell_type": "markdown",
   "source": "### Adding Platform specific metrics to the dataframe",
   "id": "dbd1ade672405256"
  },
  {
   "metadata": {},
   "cell_type": "code",
   "source": [
    "input_file = \"Bitbucket_data/bitbucket_repositories_metrics.csv\"\n",
    "output_file = \"Bitbucket_data/bitbucket_repositories_metrics.csv\"\n",
    "\n",
    "# Load the csv file that contains the repositories\n",
    "df = pd.read_csv(input_file)\n",
    "\n",
    "# Add chosen metric for each repository of the DataFrame\n",
    "bitbucket_instance.add_metric(df, Platforms.BITBUCKET, Metrics.STAR)\n",
    "bitbucket_instance.add_metric(df, Platforms.BITBUCKET, Metrics.FORK)\n",
    "bitbucket_instance.add_metric(df, Platforms.BITBUCKET, Metrics.PULL_REQUEST)\n",
    "#bitbucket_instance.add_metric(df, Platforms.BITBUCKET, Metrics.ISSUE)\n",
    "#gitlab_instance.add_metric(df, Metrics.COMMIT)\n",
    "#gitlab_instance.add_metric(df, Metrics.CONTRIBUTOR)\n",
    "#gitlab_instance.add_metric(df, Metrics.LANGUAGE)\n",
    "#gitlab_instance.add_metric(df, Metrics.LICENSE)\n",
    "\n",
    "# Save updated CSV\n",
    "df.to_csv(output_file, index=False)\n",
    "logger.info(f\"Done! Updated file saved as {output_file}\")"
   ],
   "id": "77f0fdc59f1d3692",
   "outputs": [],
   "execution_count": null
  },
  {
   "metadata": {},
   "cell_type": "markdown",
   "source": "# First Statistical analysis of the data",
   "id": "fdbd4b603b10f90a"
  },
  {
   "metadata": {},
   "cell_type": "code",
   "source": [
    "# Load Data\n",
    "df_github = pd.read_csv(\"Github_data/github_30days_repositories.csv\")\n",
    "df_gitlab = pd.read_csv(\"Gitlab_data/gitlab_30days_repositories.csv\")\n",
    "df_gitea = pd.read_csv(\"Gitea_data/gitea_30days_repositories.csv\")\n",
    "df_forgejo = pd.read_csv(\"Forgejo_data/forgejo_30days_repositories.csv\")\n",
    "df_github = pd.read_csv(\"Github_data/github_repositories.csv\")\n",
    "df_gitlab = pd.read_csv(\"Gitlab_data/gitlab_repositories.csv\")\n",
    "df_gitea = pd.read_csv(\"Gitea_data/gitea_repositories.csv\")\n",
    "df_forgejo = pd.read_csv(\"Forgejo_data/forgejo_repositories.csv\")\n",
    "\n",
    "get_most_present_owner(df_github, df_gitlab, df_gitea, df_forgejo)\n",
    "get_unique_owner_number(df_github, df_gitlab, df_gitea, df_forgejo)"
   ],
   "id": "20d7dd6997c16009",
   "outputs": [],
   "execution_count": null
  },
  {
   "metadata": {},
   "cell_type": "code",
   "source": [
    "# Load Data\n",
    "df_github = pd.read_csv(\"Github_data/github_15days_repositories.csv\")\n",
    "df_gitlab = pd.read_csv(\"Gitlab_data/gitlab_15days_repositories.csv\")\n",
    "df_gitea = pd.read_csv(\"Gitea_data/gitea_15days_repositories.csv\")\n",
    "df_forgejo = pd.read_csv(\"Forgejo_data/forgejo_15days_repositories.csv\")\n",
    "\n",
    "get_most_present_owner(df_github, df_gitlab, df_gitea, df_forgejo)\n",
    "get_unique_owner_number(df_github, df_gitlab, df_gitea, df_forgejo)"
   ],
   "id": "6ab37423a81126b9",
   "outputs": [],
   "execution_count": null
  },
  {
   "metadata": {},
   "cell_type": "code",
   "source": [
    "# Load Data\n",
    "df_github = pd.read_csv(\"Github_data/github_7days_repositories.csv\")\n",
    "df_gitlab = pd.read_csv(\"Gitlab_data/gitlab_7days_repositories.csv\")\n",
    "df_gitea = pd.read_csv(\"Gitea_data/gitea_7days_repositories.csv\")\n",
    "df_forgejo = pd.read_csv(\"Forgejo_data/forgejo_7days_repositories.csv\")\n",
    "\n",
    "get_most_present_owner(df_github, df_gitlab, df_gitea, df_forgejo)\n",
    "get_unique_owner_number(df_github, df_gitlab, df_gitea, df_forgejo)"
   ],
   "id": "82bdf46072d87a46",
   "outputs": [],
   "execution_count": null
  },
  {
   "metadata": {},
   "cell_type": "markdown",
   "source": "### Plotting the creation date of the repositories",
   "id": "724827b70fcf8b88"
  },
  {
   "metadata": {},
   "cell_type": "code",
   "source": [
    "# Load Data\n",
    "df_github = pd.read_csv(\"Github_data/github_repositories_metrics_with_date_bias.csv\")\n",
    "df_gitlab = pd.read_csv(\"Gitlab_data/gitlab_repositories_metrics_with_date_bias.csv\")\n",
    "df_gitea = pd.read_csv(\"Gitea_data/gitea_repositories_metrics_with_date_bias.csv\")\n",
    "df_forgejo = pd.read_csv(\"Forgejo_data/forgejo_repositories_metrics_with_date_bias.csv\")\n",
    "\n",
    "# Create the plot\n",
    "platform_analysis.plot_step_lines(df_github, df_gitlab, df_gitea, df_forgejo, Metrics.CREATED)"
   ],
   "id": "bab0555c6ad78d89",
   "outputs": [],
   "execution_count": null
  },
  {
   "metadata": {},
   "cell_type": "code",
   "source": [
    "# Load Data\n",
    "df_github = pd.read_csv(\"Github_data/github_30days_repositories.csv\")\n",
    "df_gitlab = pd.read_csv(\"Gitlab_data/gitlab_30days_repositories.csv\")\n",
    "df_gitea = pd.read_csv(\"Gitea_data/gitea_30days_repositories.csv\")\n",
    "df_forgejo = pd.read_csv(\"Forgejo_data/forgejo_30days_repositories.csv\")\n",
    "\n",
    "# Create the plot\n",
    "platform_analysis.plot_step_lines(df_github, df_gitlab, df_gitea, df_forgejo, Metrics.CREATED)"
   ],
   "id": "ec68b4ae9416b561",
   "outputs": [],
   "execution_count": null
  },
  {
   "metadata": {},
   "cell_type": "code",
   "source": [
    "# Load Data\n",
    "df_github = pd.read_csv(\"Github_data/github_15days_repositories.csv\")\n",
    "df_gitlab = pd.read_csv(\"Gitlab_data/gitlab_15days_repositories.csv\")\n",
    "df_gitea = pd.read_csv(\"Gitea_data/gitea_15days_repositories.csv\")\n",
    "df_forgejo = pd.read_csv(\"Forgejo_data/forgejo_15days_repositories.csv\")\n",
    "\n",
    "# Create the plot\n",
    "platform_analysis.plot_step_lines(df_github, df_gitlab, df_gitea, df_forgejo, Metrics.CREATED)"
   ],
   "id": "d00c0297bfa7dcf5",
   "outputs": [],
   "execution_count": null
  },
  {
   "metadata": {},
   "cell_type": "code",
   "source": [
    "# Load Data\n",
    "df_github = pd.read_csv(\"Github_data/github_7days_repositories.csv\")\n",
    "df_gitlab = pd.read_csv(\"Gitlab_data/gitlab_7days_repositories.csv\")\n",
    "df_gitea = pd.read_csv(\"Gitea_data/gitea_7days_repositories.csv\")\n",
    "df_forgejo = pd.read_csv(\"Forgejo_data/forgejo_7days_repositories.csv\")\n",
    "\n",
    "# Create the plot\n",
    "platform_analysis.plot_step_lines(df_github, df_gitlab, df_gitea, df_forgejo, Metrics.CREATED)"
   ],
   "id": "ca01dcdec00d7d06",
   "outputs": [],
   "execution_count": null
  },
  {
   "metadata": {},
   "cell_type": "markdown",
   "source": "### Plotting the last update date of the repositories",
   "id": "9ef97fceb8c7c88a"
  },
  {
   "metadata": {},
   "cell_type": "code",
   "source": [
    "# Load Data\n",
    "df_github = pd.read_csv(\"Github_data/github_30days_repositories.csv\")\n",
    "df_gitlab = pd.read_csv(\"Gitlab_data/gitlab_30days_repositories.csv\")\n",
    "df_gitea = pd.read_csv(\"Gitea_data/gitea_30days_repositories.csv\")\n",
    "df_forgejo = pd.read_csv(\"Forgejo_data/forgejo_30days_repositories.csv\")\n",
    "\n",
    "# Create the plot\n",
    "platform_analysis.plot_step_lines(df_github, df_gitlab, df_gitea, df_forgejo, Metrics.UPDATED)"
   ],
   "id": "27f5e222f409da53",
   "outputs": [],
   "execution_count": null
  },
  {
   "metadata": {},
   "cell_type": "code",
   "source": [
    "# Load Data\n",
    "df_github = pd.read_csv(\"Github_data/github_15days_repositories.csv\")\n",
    "df_gitlab = pd.read_csv(\"Gitlab_data/gitlab_15days_repositories.csv\")\n",
    "df_gitea = pd.read_csv(\"Gitea_data/gitea_15days_repositories.csv\")\n",
    "df_forgejo = pd.read_csv(\"Forgejo_data/forgejo_15days_repositories.csv\")\n",
    "\n",
    "# Create the plot\n",
    "platform_analysis.plot_step_lines(df_github, df_gitlab, df_gitea, df_forgejo, Metrics.UPDATED)"
   ],
   "id": "7b51756eac2e50ca",
   "outputs": [],
   "execution_count": null
  },
  {
   "metadata": {},
   "cell_type": "code",
   "source": [
    "# Load Data\n",
    "df_github = pd.read_csv(\"Github_data/github_7days_repositories.csv\")\n",
    "df_gitlab = pd.read_csv(\"Gitlab_data/gitlab_7days_repositories.csv\")\n",
    "df_gitea = pd.read_csv(\"Gitea_data/gitea_7days_repositories.csv\")\n",
    "df_forgejo = pd.read_csv(\"Forgejo_data/forgejo_7days_repositories.csv\")\n",
    "\n",
    "# Create the plot\n",
    "platform_analysis.plot_step_lines(df_github, df_gitlab, df_gitea, df_forgejo, Metrics.UPDATED)"
   ],
   "id": "eb129d2198654ded",
   "outputs": [],
   "execution_count": null
  },
  {
   "metadata": {},
   "cell_type": "markdown",
   "source": "### Checking the distribution of the alphanumeric metrics",
   "id": "991ab7eac100d5b0"
  },
  {
   "metadata": {},
   "cell_type": "code",
   "source": [
    "# Load Data\n",
    "df_github = pd.read_csv(\"Github_data/github_repositories_metrics.csv\")\n",
    "df_gitlab = pd.read_csv(\"Gitlab_data/gitlab_repositories_metrics.csv\")\n",
    "df_gitea = pd.read_csv(\"Gitea_data/gitea_repositories_metrics.csv\")\n",
    "df_forgejo = pd.read_csv(\"Forgejo_data/forgejo_repositories_metrics.csv\")\n",
    "\n",
    "# Create the plot\n",
    "platform_analysis.plot_alphanumeric_distribution(Metrics.MAIN_LANGUAGE,df_github, df_gitlab, df_gitea, df_forgejo)"
   ],
   "id": "85ee213550aafceb",
   "outputs": [],
   "execution_count": null
  },
  {
   "metadata": {},
   "cell_type": "code",
   "source": [
    "# Load Data\n",
    "df_github = pd.read_csv(\"Github_data/github_repositories_metrics.csv\")\n",
    "df_gitlab = pd.read_csv(\"Gitlab_data/gitlab_repositories_metrics.csv\")\n",
    "df_gitea = pd.read_csv(\"Gitea_data/gitea_repositories_metrics.csv\")\n",
    "df_forgejo = pd.read_csv(\"Forgejo_data/forgejo_repositories_metrics.csv\")\n",
    "\n",
    "# Create the plot\n",
    "platform_analysis.plot_alphanumeric_distribution(Metrics.LANGUAGE_DISTRIBUTION,df_github, df_gitlab, df_gitea, df_forgejo)"
   ],
   "id": "51b0cf04ad4e1076",
   "outputs": [],
   "execution_count": null
  },
  {
   "metadata": {},
   "cell_type": "code",
   "source": [
    "# Load Data\n",
    "df_github = pd.read_csv(\"Github_data/github_repositories_metrics.csv\")\n",
    "df_gitlab = pd.read_csv(\"Gitlab_data/gitlab_repositories_metrics.csv\")\n",
    "df_gitea = pd.read_csv(\"Gitea_data/gitea_repositories_metrics.csv\")\n",
    "df_forgejo = pd.read_csv(\"Forgejo_data/forgejo_repositories_metrics.csv\")\n",
    "\n",
    "# Create the plot\n",
    "platform_analysis.plot_alphanumeric_distribution(Metrics.LICENSE,df_github, df_gitlab, df_gitea, df_forgejo)"
   ],
   "id": "c477015d1eeada47",
   "outputs": [],
   "execution_count": null
  },
  {
   "metadata": {},
   "cell_type": "code",
   "source": [
    "# Load Data\n",
    "df_github = pd.read_csv(\"Github_data/github_repositories_metrics.csv\")\n",
    "df_gitlab = pd.read_csv(\"Gitlab_data/gitlab_repositories_metrics.csv\")\n",
    "df_gitea = pd.read_csv(\"Gitea_data/gitea_repositories_metrics.csv\")\n",
    "df_forgejo = pd.read_csv(\"Forgejo_data/forgejo_repositories_metrics.csv\")\n",
    "\n",
    "# Create the plot\n",
    "platform_analysis.plot_numeric_distribution(df_github, df_gitlab, df_gitea, df_forgejo, Metrics.COMMIT)"
   ],
   "id": "985559b68a9ab9c5",
   "outputs": [],
   "execution_count": null
  },
  {
   "metadata": {},
   "cell_type": "code",
   "source": [
    "# Load Data\n",
    "df_github = pd.read_csv(\"Github_data/github_repositories_metrics.csv\")\n",
    "df_gitlab = pd.read_csv(\"Gitlab_data/gitlab_repositories_metrics.csv\")\n",
    "df_gitea = pd.read_csv(\"Gitea_data/gitea_repositories_metrics.csv\")\n",
    "df_forgejo = pd.read_csv(\"Forgejo_data/forgejo_repositories_metrics.csv\")\n",
    "\n",
    "# Create the plot\n",
    "platform_analysis.plot_numeric_distribution(df_github, df_gitlab, df_gitea, df_forgejo, Metrics.SIZE)"
   ],
   "id": "190de7a9e84ec31",
   "outputs": [],
   "execution_count": null
  },
  {
   "metadata": {},
   "cell_type": "code",
   "source": [
    "# Load Data\n",
    "df_github = pd.read_csv(\"Github_data/github_repositories_metrics.csv\")\n",
    "df_gitlab = pd.read_csv(\"Gitlab_data/gitlab_repositories_metrics.csv\")\n",
    "df_gitea = pd.read_csv(\"Gitea_data/gitea_repositories_metrics.csv\")\n",
    "df_forgejo = pd.read_csv(\"Forgejo_data/forgejo_repositories_metrics.csv\")\n",
    "\n",
    "# Create the plot\n",
    "platform_analysis.plot_numeric_distribution(df_github, df_gitlab, df_gitea, df_forgejo, Metrics.CONTRIBUTOR)"
   ],
   "id": "85428f46190149b6",
   "outputs": [],
   "execution_count": null
  },
  {
   "metadata": {},
   "cell_type": "code",
   "source": [
    "# Load Data\n",
    "df_github = pd.read_csv(\"Github_data/github_repositories_metrics.csv\")\n",
    "df_gitlab = pd.read_csv(\"Gitlab_data/gitlab_repositories_metrics.csv\")\n",
    "df_gitea = pd.read_csv(\"Gitea_data/gitea_repositories_metrics.csv\")\n",
    "df_forgejo = pd.read_csv(\"Forgejo_data/forgejo_repositories_metrics.csv\")\n",
    "\n",
    "# Create the plot\n",
    "platform_analysis.plot_numeric_distribution(df_github, df_gitlab, df_gitea, df_forgejo, Metrics.BRANCH)"
   ],
   "id": "ed1398ee31d21d6f",
   "outputs": [],
   "execution_count": null
  },
  {
   "metadata": {},
   "cell_type": "code",
   "source": [
    "# Load Data\n",
    "df_github = pd.read_csv(\"Github_data/github_repositories_metrics.csv\")\n",
    "df_gitlab = pd.read_csv(\"Gitlab_data/gitlab_repositories_metrics.csv\")\n",
    "df_gitea = pd.read_csv(\"Gitea_data/gitea_repositories_metrics.csv\")\n",
    "df_forgejo = pd.read_csv(\"Forgejo_data/forgejo_repositories_metrics.csv\")\n",
    "\n",
    "# Create the plot\n",
    "platform_analysis.plot_numeric_distribution(df_github, df_gitlab, df_gitea, df_forgejo, Metrics.ISSUE)"
   ],
   "id": "5855ce3b937bec2a",
   "outputs": [],
   "execution_count": null
  },
  {
   "metadata": {},
   "cell_type": "code",
   "source": [
    "# Load Data\n",
    "df_github = pd.read_csv(\"Github_data/github_repositories_metrics.csv\")\n",
    "df_gitlab = pd.read_csv(\"Gitlab_data/gitlab_repositories_metrics.csv\")\n",
    "df_gitea = pd.read_csv(\"Gitea_data/gitea_repositories_metrics.csv\")\n",
    "df_forgejo = pd.read_csv(\"Forgejo_data/forgejo_repositories_metrics.csv\")\n",
    "\n",
    "# Create the plot\n",
    "platform_analysis.plot_numeric_distribution(df_github, df_gitlab, df_gitea, df_forgejo, Metrics.PULL_REQUEST)"
   ],
   "id": "e1709089c8a4ba3f",
   "outputs": [],
   "execution_count": null
  },
  {
   "metadata": {},
   "cell_type": "code",
   "source": [
    "# Load Data\n",
    "df_github = pd.read_csv(\"Github_data/github_repositories_metrics.csv\")\n",
    "df_gitlab = pd.read_csv(\"Gitlab_data/gitlab_repositories_metrics.csv\")\n",
    "df_gitea = pd.read_csv(\"Gitea_data/gitea_repositories_metrics.csv\")\n",
    "df_forgejo = pd.read_csv(\"Forgejo_data/forgejo_repositories_metrics.csv\")\n",
    "\n",
    "# Create the plot\n",
    "platform_analysis.plot_numeric_distribution(df_github, df_gitlab, df_gitea, df_forgejo, Metrics.CREATED)"
   ],
   "id": "509a0d5864582b16",
   "outputs": [],
   "execution_count": null
  },
  {
   "metadata": {},
   "cell_type": "markdown",
   "source": "# Correlation between our metrics",
   "id": "ab669a9f38bb2524"
  },
  {
   "metadata": {},
   "cell_type": "code",
   "source": [
    "# Load Data\n",
    "df_github = pd.read_csv(\"Github_data/github_repositories_metrics.csv\")\n",
    "df_gitlab = pd.read_csv(\"Gitlab_data/gitlab_repositories_metrics.csv\")\n",
    "df_gitea = pd.read_csv(\"Gitea_data/gitea_repositories_metrics.csv\")\n",
    "df_forgejo = pd.read_csv(\"Forgejo_data/forgejo_repositories_metrics.csv\")\n",
    "\n",
    "print(\"GITHUB\")\n",
    "#platform_analysis.create_correlation_matrix(df_github)\n",
    "print(\"GITLAB\")\n",
    "#platform_analysis.create_correlation_matrix(df_gitlab)\n",
    "print(\"GITEA\")\n",
    "#platform_analysis.create_correlation_matrix(df_gitea)\n",
    "print(\"FORGEJO\")\n",
    "platform_analysis.create_correlation_matrix(df_forgejo)"
   ],
   "id": "2d6c1229c96499af",
   "outputs": [],
   "execution_count": null
  },
  {
   "metadata": {},
   "cell_type": "markdown",
   "source": "### Lorentz curves to visualize check how important the biggest repositories are in the dataset",
   "id": "3263fec9112c4feb"
  },
  {
   "metadata": {},
   "cell_type": "code",
   "source": [
    "# Load Data\n",
    "df_github = pd.read_csv(\"Github_data/github_repositories_metrics.csv\")\n",
    "df_gitlab = pd.read_csv(\"Gitlab_data/gitlab_repositories_metrics.csv\")\n",
    "df_gitea = pd.read_csv(\"Gitea_data/gitea_repositories_metrics.csv\")\n",
    "df_forgejo = pd.read_csv(\"Forgejo_data/forgejo_repositories_metrics.csv\")\n",
    "\n",
    "print(\"GITHUB\")\n",
    "platform_analysis.plot_lorenz_curve(df_github['#commits'])\n",
    "print(\"GITLAB\")\n",
    "platform_analysis.plot_lorenz_curve(df_gitlab['#commits'])\n",
    "print(\"GITEA\")\n",
    "platform_analysis.plot_lorenz_curve(df_gitea['#commits'])\n",
    "print(\"FORGEJO\")\n",
    "platform_analysis.plot_lorenz_curve(df_forgejo['#commits'])"
   ],
   "id": "9b67e1c5bd0593bf",
   "outputs": [],
   "execution_count": null
  },
  {
   "metadata": {},
   "cell_type": "markdown",
   "source": "# Statistical analysis using propensity score matching",
   "id": "ef2b4ab7cdac8f40"
  },
  {
   "metadata": {},
   "cell_type": "markdown",
   "source": "### Age comparison",
   "id": "56dc8c62f52194c0"
  },
  {
   "metadata": {},
   "cell_type": "code",
   "source": [
    "# Load Data\n",
    "df_github = pd.read_csv(\"Github_data/github_repositories_metrics.csv\")\n",
    "df_gitlab = pd.read_csv(\"Gitlab_data/gitlab_repositories_metrics.csv\")\n",
    "df_gitea = pd.read_csv(\"Gitea_data/gitea_repositories_metrics.csv\")\n",
    "df_forgejo = pd.read_csv(\"Forgejo_data/forgejo_repositories_metrics.csv\")\n",
    "\n",
    "# Create the plot\n",
    "platform_analysis.plot_numeric_distribution(df_github, df_gitlab, df_gitea, df_forgejo, Metrics.CREATED)"
   ],
   "id": "38fe6ea652d4ec",
   "outputs": [],
   "execution_count": null
  },
  {
   "metadata": {},
   "cell_type": "code",
   "source": [
    "# Load Data\n",
    "df_github = pd.read_csv(\"Github_data/github_repositories_metrics.csv\")\n",
    "df_gitlab = pd.read_csv(\"Gitlab_data/gitlab_repositories_metrics.csv\")\n",
    "df_gitea = pd.read_csv(\"Gitea_data/gitea_repositories_metrics.csv\")\n",
    "df_forgejo = pd.read_csv(\"Forgejo_data/forgejo_repositories_metrics.csv\")\n",
    "\n",
    "# Perform matching and create the plot\n",
    "platform_analysis.propensity_score_matching(df_gitea, df_forgejo, \"Gitea\", Metrics.CREATED.value, [\"#branches\", \"#commits\", \"#contributors\", \"size\"], caliper=0.0001) #ajouter les dates de création"
   ],
   "id": "627b15095c43cccc",
   "outputs": [],
   "execution_count": null
  },
  {
   "metadata": {},
   "cell_type": "markdown",
   "source": "### Commit count comparison",
   "id": "58994522493168ef"
  },
  {
   "metadata": {},
   "cell_type": "code",
   "source": [
    "# Load Data\n",
    "df_github = pd.read_csv(\"Github_data/github_repositories_metrics.csv\")\n",
    "df_gitlab = pd.read_csv(\"Gitlab_data/gitlab_repositories_metrics.csv\")\n",
    "df_gitea = pd.read_csv(\"Gitea_data/gitea_repositories_metrics.csv\")\n",
    "df_forgejo = pd.read_csv(\"Forgejo_data/forgejo_repositories_metrics.csv\")\n",
    "\n",
    "# Create the plot\n",
    "platform_analysis.plot_numeric_distribution(df_github, df_gitlab, df_gitea, df_forgejo, Metrics.COMMIT)"
   ],
   "id": "dc9992660dc18ca1",
   "outputs": [],
   "execution_count": null
  },
  {
   "metadata": {},
   "cell_type": "code",
   "source": [
    "# Load the dataset\n",
    "df_github = pd.read_csv(\"Github_data/github_repositories_metrics.csv\")\n",
    "df_gitlab = pd.read_csv(\"Gitlab_data/gitlab_repositories_metrics.csv\")\n",
    "\n",
    "# Filter rows where #commits > 10000\n",
    "filtered_df = df_gitlab[df_gitlab['#commits'] > 10000]\n",
    "\n",
    "# Calculate statistics on #contributors\n",
    "max_contributors = filtered_df['#contributors'].max()\n",
    "mean_contributors = filtered_df['#contributors'].mean()\n",
    "median_contributors = filtered_df['#contributors'].median()\n",
    "\n",
    "# Display the results\n",
    "print(f\"length of filtered_df: {len(filtered_df)}\")\n",
    "print(f\"Max #contributors: {max_contributors}\")\n",
    "print(f\"Mean #contributors: {mean_contributors}\")\n",
    "print(f\"Median #contributors: {median_contributors}\")\n"
   ],
   "id": "6def459515a186bb",
   "outputs": [],
   "execution_count": null
  },
  {
   "metadata": {},
   "cell_type": "code",
   "source": [
    "# Load Data\n",
    "df_github = pd.read_csv(\"Github_data/github_repositories_metrics.csv\")\n",
    "df_gitlab = pd.read_csv(\"Gitlab_data/gitlab_repositories_metrics.csv\")\n",
    "df_gitea = pd.read_csv(\"Gitea_data/gitea_repositories_metrics.csv\")\n",
    "df_forgejo = pd.read_csv(\"Forgejo_data/forgejo_repositories_metrics.csv\")\n",
    "\n",
    "# Perform matching and create the plot\n",
    "platform_analysis.propensity_score_matching(df_github, df_gitlab, \"GitHub\", Metrics.COMMIT.value, [\"#branches\", \"#contributors\", \"size\", \"created\"], caliper=0.00001) #ajouter les dates de création"
   ],
   "id": "adbc8f12b0f8a26d",
   "outputs": [],
   "execution_count": null
  },
  {
   "metadata": {},
   "cell_type": "markdown",
   "source": "### Commit count comparison",
   "id": "dbdd93ed1a8e72f7"
  },
  {
   "metadata": {},
   "cell_type": "code",
   "source": [
    "# Load Data\n",
    "df_github = pd.read_csv(\"Github_data/github_repositories_metrics.csv\")\n",
    "df_gitlab = pd.read_csv(\"Gitlab_data/gitlab_repositories_metrics.csv\")\n",
    "df_gitea = pd.read_csv(\"Gitea_data/gitea_repositories_metrics.csv\")\n",
    "df_forgejo = pd.read_csv(\"Forgejo_data/forgejo_repositories_metrics.csv\")\n",
    "\n",
    "# Create the plot\n",
    "platform_analysis.plot_numeric_distribution(df_github, df_gitlab, df_gitea, df_forgejo, Metrics.CONTRIBUTOR)"
   ],
   "id": "2111777ee8cebc88",
   "outputs": [],
   "execution_count": null
  },
  {
   "metadata": {},
   "cell_type": "code",
   "source": [
    "# Load Data\n",
    "df_github = pd.read_csv(\"Github_data/github_repositories_metrics.csv\")\n",
    "df_gitlab = pd.read_csv(\"Gitlab_data/gitlab_repositories_metrics.csv\")\n",
    "df_gitea = pd.read_csv(\"Gitea_data/gitea_repositories_metrics.csv\")\n",
    "df_forgejo = pd.read_csv(\"Forgejo_data/forgejo_repositories_metrics.csv\")\n",
    "\n",
    "# Perform matching and create the plot\n",
    "platform_analysis.propensity_score_matching(df_gitea, df_forgejo, \"Gitea\", Metrics.CONTRIBUTOR.value, [\"#branches\", \"#commits\", \"size\", \"created\"], caliper=0.001) #ajouter les dates de création"
   ],
   "id": "229fb4a05cbf6c5b",
   "outputs": [],
   "execution_count": null
  },
  {
   "metadata": {},
   "cell_type": "markdown",
   "source": "### Size comparison",
   "id": "b13acf09398c7fa9"
  },
  {
   "metadata": {},
   "cell_type": "code",
   "source": [
    "# Load Data\n",
    "df_github = pd.read_csv(\"Github_data/github_repositories_metrics.csv\")\n",
    "df_gitlab = pd.read_csv(\"Gitlab_data/gitlab_repositories_metrics.csv\")\n",
    "df_gitea = pd.read_csv(\"Gitea_data/gitea_repositories_metrics.csv\")\n",
    "df_forgejo = pd.read_csv(\"Forgejo_data/forgejo_repositories_metrics.csv\")\n",
    "\n",
    "# Create the plot\n",
    "platform_analysis.plot_numeric_distribution(df_github, df_gitlab, df_gitea, df_forgejo, Metrics.SIZE)"
   ],
   "id": "f0b74e8d615585be",
   "outputs": [],
   "execution_count": null
  },
  {
   "metadata": {},
   "cell_type": "code",
   "source": [
    "# Load Data\n",
    "df_github = pd.read_csv(\"Github_data/github_repositories_metrics.csv\")\n",
    "df_gitlab = pd.read_csv(\"Gitlab_data/gitlab_repositories_metrics.csv\")\n",
    "df_gitea = pd.read_csv(\"Gitea_data/gitea_repositories_metrics.csv\")\n",
    "df_forgejo = pd.read_csv(\"Forgejo_data/forgejo_repositories_metrics.csv\")\n",
    "\n",
    "# Perform matching and create the plot\n",
    "platform_analysis.propensity_score_matching(df_gitea, df_forgejo, \"Gitea\", Metrics.SIZE.value, [\"#branches\", \"#commits\", \"#contributors\", \"created\"], caliper=0.1) #ajouter les dates de création"
   ],
   "id": "305396ae05962b0e",
   "outputs": [],
   "execution_count": null
  },
  {
   "metadata": {},
   "cell_type": "markdown",
   "source": "### Stars Comparison",
   "id": "20c71c175eeb7e20"
  },
  {
   "metadata": {},
   "cell_type": "code",
   "source": [
    "# Load Data\n",
    "df_github = pd.read_csv(\"Github_data/github_repositories_metrics.csv\")\n",
    "df_gitlab = pd.read_csv(\"Gitlab_data/gitlab_repositories_metrics.csv\")\n",
    "df_gitea = pd.read_csv(\"Gitea_data/gitea_repositories_metrics.csv\")\n",
    "df_forgejo = pd.read_csv(\"Forgejo_data/forgejo_repositories_metrics.csv\")\n",
    "\n",
    "# Create the plot\n",
    "platform_analysis.plot_numeric_distribution(df_github, df_gitlab, df_gitea, df_forgejo, Metrics.STAR)"
   ],
   "id": "654e54853cf7749",
   "outputs": [],
   "execution_count": null
  },
  {
   "metadata": {},
   "cell_type": "code",
   "source": [
    "# Load Data\n",
    "df_github = pd.read_csv(\"Github_data/github_repositories_metrics.csv\")\n",
    "df_gitlab = pd.read_csv(\"Gitlab_data/gitlab_repositories_metrics.csv\")\n",
    "df_gitea = pd.read_csv(\"Gitea_data/gitea_repositories_metrics.csv\")\n",
    "df_forgejo = pd.read_csv(\"Forgejo_data/forgejo_repositories_metrics.csv\")\n",
    "\n",
    "# Perform matching and create the plot\n",
    "platform_analysis.propensity_score_matching(df_gitea, df_forgejo, \"Gitea\", Metrics.STAR.value, [\"#pull_requests\", \"#issues\", \"#forks\"], caliper=0.01)"
   ],
   "id": "d5ff5b6a6e70bec3",
   "outputs": [],
   "execution_count": null
  },
  {
   "metadata": {},
   "cell_type": "markdown",
   "source": "### Issues Comparison",
   "id": "2a95ccd5375b9793"
  },
  {
   "metadata": {},
   "cell_type": "code",
   "source": [
    "# Load Data\n",
    "df_github = pd.read_csv(\"Github_data/github_repositories_metrics.csv\")\n",
    "df_gitlab = pd.read_csv(\"Gitlab_data/gitlab_repositories_metrics.csv\")\n",
    "df_gitea = pd.read_csv(\"Gitea_data/gitea_repositories_metrics.csv\")\n",
    "df_forgejo = pd.read_csv(\"Forgejo_data/forgejo_repositories_metrics.csv\")\n",
    "\n",
    "# Create the plot\n",
    "platform_analysis.plot_numeric_distribution(df_github, df_gitlab, df_gitea, df_forgejo, Metrics.ISSUE)"
   ],
   "id": "4acc80191f41adea",
   "outputs": [],
   "execution_count": null
  },
  {
   "metadata": {},
   "cell_type": "code",
   "source": [
    "# Load Data\n",
    "df_github = pd.read_csv(\"Github_data/github_repositories_metrics.csv\")\n",
    "df_gitlab = pd.read_csv(\"Gitlab_data/gitlab_repositories_metrics.csv\")\n",
    "df_gitea = pd.read_csv(\"Gitea_data/gitea_repositories_metrics.csv\")\n",
    "df_forgejo = pd.read_csv(\"Forgejo_data/forgejo_repositories_metrics.csv\")\n",
    "\n",
    "# Perform matching and create the plot\n",
    "platform_analysis.propensity_score_matching(df_gitea, df_forgejo, \"Gitea\", Metrics.ISSUE.value, [\"#pull_requests\", \"#stars\", \"#forks\"], caliper=0.001)"
   ],
   "id": "ec75b28e78313bef",
   "outputs": [],
   "execution_count": null
  },
  {
   "metadata": {},
   "cell_type": "markdown",
   "source": "### Pull requests comparison",
   "id": "329764db8b75166a"
  },
  {
   "metadata": {},
   "cell_type": "code",
   "source": [
    "# Load Data\n",
    "df_github = pd.read_csv(\"Github_data/github_repositories_metrics.csv\")\n",
    "df_gitlab = pd.read_csv(\"Gitlab_data/gitlab_repositories_metrics.csv\")\n",
    "df_gitea = pd.read_csv(\"Gitea_data/gitea_repositories_metrics.csv\")\n",
    "df_forgejo = pd.read_csv(\"Forgejo_data/forgejo_repositories_metrics.csv\")\n",
    "\n",
    "# Create the plot\n",
    "platform_analysis.plot_numeric_distribution(df_github, df_gitlab, df_gitea, df_forgejo, Metrics.PULL_REQUEST)"
   ],
   "id": "9232329112c63c3b",
   "outputs": [],
   "execution_count": null
  },
  {
   "metadata": {},
   "cell_type": "code",
   "source": [
    "# Load Data\n",
    "df_github = pd.read_csv(\"Github_data/github_repositories_metrics.csv\")\n",
    "df_gitlab = pd.read_csv(\"Gitlab_data/gitlab_repositories_metrics.csv\")\n",
    "df_gitea = pd.read_csv(\"Gitea_data/gitea_repositories_metrics.csv\")\n",
    "df_forgejo = pd.read_csv(\"Forgejo_data/forgejo_repositories_metrics.csv\")\n",
    "\n",
    "# Perform matching and create the plot\n",
    "platform_analysis.propensity_score_matching(df_gitea, df_forgejo, \"Gitea\", Metrics.PULL_REQUEST.value, [\"#issues\", \"#stars\", \"#forks\"], caliper=0.001)"
   ],
   "id": "60add1c703a3ae37",
   "outputs": [],
   "execution_count": null
  },
  {
   "metadata": {},
   "cell_type": "markdown",
   "source": "# AUTRES",
   "id": "a8c565c348e55c61"
  },
  {
   "metadata": {},
   "cell_type": "code",
   "source": [
    "# Load Data\n",
    "df_github = pd.read_csv(\"Github_data/github_repositories_metrics.csv\")\n",
    "df_gitlab = pd.read_csv(\"Gitlab_data/gitlab_repositories_metrics.csv\")\n",
    "\n",
    "# Perform matching and create the plot\n",
    "platform_analysis.propensity_score_matching(df_github, df_gitlab, \"GitHub\", Metrics.COMMIT.value, [\"#branches\", \"#contributors\", \"size\", \"created\"], caliper=0.001) #ajouter les dates de création"
   ],
   "id": "4541ae8235348c9d",
   "outputs": [],
   "execution_count": null
  },
  {
   "metadata": {},
   "cell_type": "code",
   "source": [
    "# Load Data\n",
    "df_github = pd.read_csv(\"Github_data/github_repositories_metrics.csv\")\n",
    "df_bitbucket = pd.read_csv(\"Bitbucket_data/bitbucket_repositories_metrics.csv\")\n",
    "\n",
    "# Perform matching and create the plot\n",
    "platform_analysis.propensity_score_matching(df_github, df_bitbucket, Metrics.SIZE, scale=\"log\", max_difference=0.1)"
   ],
   "id": "a518ceed80a18554",
   "outputs": [],
   "execution_count": null
  },
  {
   "metadata": {},
   "cell_type": "code",
   "source": [
    "# Load Data\n",
    "df_github = pd.read_csv(\"Github_data/github_repositories_metrics.csv\")\n",
    "df_gitea = pd.read_csv(\"Gitea_data/gitea_repositories_metrics.csv\")\n",
    "\n",
    "# Perform matching and create the plot\n",
    "platform_analysis.propensity_score_matching(df_github, df_gitea, Metrics.SIZE, scale=\"log\", max_difference=0.1)"
   ],
   "id": "891e48d548041f31",
   "outputs": [],
   "execution_count": null
  },
  {
   "metadata": {},
   "cell_type": "code",
   "source": [
    "# Load Data\n",
    "df_github = pd.read_csv(\"Github_data/github_repositories_metrics.csv\")\n",
    "df_forgejo = pd.read_csv(\"Forgejo_data/forgejo_repositories_metrics.csv\")\n",
    "\n",
    "# Perform matching and create the plot\n",
    "platform_analysis.propensity_score_matching(df_github, df_forgejo, Metrics.SIZE, scale=\"log\", max_difference=0.1)"
   ],
   "id": "b579dc1773845e89",
   "outputs": [],
   "execution_count": null
  },
  {
   "metadata": {},
   "cell_type": "markdown",
   "source": "### Commit comparison",
   "id": "fa26e4d1d253c772"
  },
  {
   "metadata": {},
   "cell_type": "code",
   "source": [
    "# Load Data\n",
    "df_github = pd.read_csv(\"Github_data/github_repositories_metrics.csv\")\n",
    "df_gitlab = pd.read_csv(\"Gitlab_data/gitlab_repositories_metrics.csv\")\n",
    "\n",
    "# Perform matching and create the plot\n",
    "platform_analysis.propensity_score_matching(df_github, df_gitlab, Metrics.COMMIT, scale=\"log\", max_difference=0.1)"
   ],
   "id": "effe13a49a29afd8",
   "outputs": [],
   "execution_count": null
  },
  {
   "metadata": {},
   "cell_type": "code",
   "source": [
    "# Load Data\n",
    "df_github = pd.read_csv(\"Github_data/github_repositories_metrics.csv\")\n",
    "df_bitbucket = pd.read_csv(\"Bitbucket_data/bitbucket_repositories_metrics.csv\")\n",
    "\n",
    "# Perform matching and create the plot\n",
    "platform_analysis.propensity_score_matching(df_github, df_bitbucket, Metrics.COMMIT, scale=\"log\", max_difference=0.1)"
   ],
   "id": "e0c44cc20a806609",
   "outputs": [],
   "execution_count": null
  },
  {
   "metadata": {},
   "cell_type": "code",
   "source": [
    "# Load Data\n",
    "df_github = pd.read_csv(\"Github_data/github_repositories_metrics.csv\")\n",
    "df_gitea = pd.read_csv(\"Gitea_data/gitea_repositories_metrics.csv\")\n",
    "\n",
    "# Perform matching and create the plot\n",
    "platform_analysis.propensity_score_matching(df_github, df_gitea, Metrics.COMMIT, scale=\"log\", max_difference=0.1)"
   ],
   "id": "98dde0b2588041",
   "outputs": [],
   "execution_count": null
  },
  {
   "metadata": {},
   "cell_type": "code",
   "source": [
    "# Load Data\n",
    "df_github = pd.read_csv(\"Github_data/github_repositories_metrics.csv\")\n",
    "df_forgejo = pd.read_csv(\"Forgejo_data/forgejo_repositories_metrics.csv\")\n",
    "\n",
    "# Perform matching and create the plot\n",
    "platform_analysis.propensity_score_matching(df_github, df_forgejo, Metrics.COMMIT, scale=\"log\", max_difference=0.1)"
   ],
   "id": "47b96a338b2f831b",
   "outputs": [],
   "execution_count": null
  },
  {
   "metadata": {},
   "cell_type": "markdown",
   "source": "### Issue comparison",
   "id": "b6a226927fd2b1f8"
  },
  {
   "metadata": {},
   "cell_type": "code",
   "source": [
    "# Load Data\n",
    "df_github = pd.read_csv(\"Github_data/github_repositories_metrics.csv\")\n",
    "df_gitlab = pd.read_csv(\"Gitlab_data/gitlab_repositories_metrics.csv\")\n",
    "\n",
    "# Perform matching and create the plot\n",
    "platform_analysis.propensity_score_matching(df_github, df_gitlab, Metrics.ISSUE, scale=\"log\", max_difference=0.1)"
   ],
   "id": "90d43a9d61121fe4",
   "outputs": [],
   "execution_count": null
  },
  {
   "metadata": {},
   "cell_type": "code",
   "source": [
    "# Load Data\n",
    "df_github = pd.read_csv(\"Github_data/github_repositories_metrics.csv\")\n",
    "df_gitea = pd.read_csv(\"Gitea_data/gitea_repositories_metrics.csv\")\n",
    "\n",
    "# Perform matching and create the plot\n",
    "platform_analysis.propensity_score_matching(df_github, df_gitea, Metrics.ISSUE, scale=\"log\", max_difference=0.1)"
   ],
   "id": "546c54f1e106a09d",
   "outputs": [],
   "execution_count": null
  },
  {
   "metadata": {},
   "cell_type": "code",
   "source": [
    "# Load Data\n",
    "df_github = pd.read_csv(\"Github_data/github_repositories_metrics.csv\")\n",
    "df_forgejo = pd.read_csv(\"Forgejo_data/forgejo_repositories_metrics.csv\")\n",
    "\n",
    "# Perform matching and create the plot\n",
    "platform_analysis.propensity_score_matching(df_github, df_forgejo, Metrics.ISSUE, scale=\"log\", max_difference=0.1)"
   ],
   "id": "89fa61ebe355d10",
   "outputs": [],
   "execution_count": null
  },
  {
   "metadata": {},
   "cell_type": "markdown",
   "source": "### Pull request comparison",
   "id": "667668be49aeda4c"
  },
  {
   "metadata": {},
   "cell_type": "code",
   "source": [
    "# Load Data\n",
    "df_github = pd.read_csv(\"Github_data/github_repositories_metrics.csv\")\n",
    "df_gitlab = pd.read_csv(\"Gitlab_data/gitlab_repositories_metrics.csv\")\n",
    "\n",
    "# Perform matching and create the plot\n",
    "platform_analysis.propensity_score_matching(df_github, df_gitlab, Metrics.PULL_REQUEST, scale=\"log\", max_difference=0.1)"
   ],
   "id": "b0547e332482d2c7",
   "outputs": [],
   "execution_count": null
  },
  {
   "metadata": {},
   "cell_type": "code",
   "source": [
    "# Load Data\n",
    "df_github = pd.read_csv(\"Github_data/github_repositories_metrics.csv\")\n",
    "df_gitea = pd.read_csv(\"Gitea_data/gitea_repositories_metrics.csv\")\n",
    "\n",
    "# Perform matching and create the plot\n",
    "platform_analysis.propensity_score_matching(df_github, df_gitea, Metrics.PULL_REQUEST, scale=\"linear\", max_difference=0.1)"
   ],
   "id": "6493ef8210fcb57",
   "outputs": [],
   "execution_count": null
  },
  {
   "metadata": {},
   "cell_type": "code",
   "source": [
    "# Load Data\n",
    "df_github = pd.read_csv(\"Github_data/github_repositories_metrics.csv\")\n",
    "df_forgejo = pd.read_csv(\"Forgejo_data/forgejo_repositories_metrics.csv\")\n",
    "\n",
    "# Perform matching and create the plot\n",
    "platform_analysis.propensity_score_matching(df_github, df_forgejo, Metrics.PULL_REQUEST, scale=\"log\", max_difference=0.1)"
   ],
   "id": "a11665779ece397f",
   "outputs": [],
   "execution_count": null
  },
  {
   "metadata": {},
   "cell_type": "markdown",
   "source": "# Exemple de présentation des résultats",
   "id": "ec4775b66ad5212f"
  },
  {
   "metadata": {},
   "cell_type": "code",
   "source": [
    "# Load Data\n",
    "df_github = pd.read_csv(\"Github_data/github_repositories_metrics.csv\")\n",
    "df_gitlab = pd.read_csv(\"Gitlab_data/gitlab_repositories_metrics.csv\")\n",
    "df_gitea = pd.read_csv(\"Gitea_data/gitea_repositories_metrics.csv\")\n",
    "df_forgejo = pd.read_csv(\"Forgejo_data/forgejo_repositories_metrics.csv\")\n",
    "\n",
    "# Create the plot\n",
    "platform_analysis.plot_numeric_distribution(df_github, df_gitlab, df_gitea, df_forgejo, Metrics.COMMIT)"
   ],
   "id": "3f809f42c227ad22",
   "outputs": [],
   "execution_count": null
  },
  {
   "metadata": {},
   "cell_type": "code",
   "source": [
    "# Load Data\n",
    "df_github = pd.read_csv(\"Github_data/github_repositories_metrics.csv\")\n",
    "df_gitlab = pd.read_csv(\"Gitlab_data/gitlab_repositories_metrics.csv\")\n",
    "df_gitea = pd.read_csv(\"Gitea_data/gitea_repositories_metrics.csv\")\n",
    "df_forgejo = pd.read_csv(\"Forgejo_data/forgejo_repositories_metrics.csv\")\n",
    "\n",
    "print(\"GITHUB\")\n",
    "platform_analysis.create_correlation_matrix(df_github)\n",
    "print(\"GITLAB\")\n",
    "platform_analysis.create_correlation_matrix(df_gitlab)\n",
    "print(\"GITEA\")\n",
    "platform_analysis.create_correlation_matrix(df_gitea)\n",
    "print(\"FORGEJO\")\n",
    "platform_analysis.create_correlation_matrix(df_forgejo)"
   ],
   "id": "a8a5fed300657a5e",
   "outputs": [],
   "execution_count": null
  },
  {
   "metadata": {},
   "cell_type": "code",
   "source": [
    "# Load Data\n",
    "df_github = pd.read_csv(\"Github_data/github_repositories_metrics.csv\")\n",
    "df_gitlab = pd.read_csv(\"Gitlab_data/gitlab_repositories_metrics.csv\")\n",
    "df_gitea = pd.read_csv(\"Gitea_data/gitea_repositories_metrics.csv\")\n",
    "df_forgejo = pd.read_csv(\"Forgejo_data/forgejo_repositories_metrics.csv\")\n",
    "\n",
    "print(\"GITHUB\")\n",
    "platform_analysis.plot_lorenz_curve(df_github['#commits'])\n",
    "print(\"GITLAB\")\n",
    "platform_analysis.plot_lorenz_curve(df_gitlab['#commits'])\n",
    "print(\"GITEA\")\n",
    "platform_analysis.plot_lorenz_curve(df_gitea['#commits'])\n",
    "print(\"FORGEJO\")\n",
    "platform_analysis.plot_lorenz_curve(df_forgejo['#commits'])"
   ],
   "id": "d692734b5e284cb4",
   "outputs": [],
   "execution_count": null
  },
  {
   "metadata": {},
   "cell_type": "code",
   "source": [
    "# Load Data\n",
    "df_github = pd.read_csv(\"Github_data/github_repositories_metrics.csv\")\n",
    "df_gitlab = pd.read_csv(\"Gitlab_data/gitlab_repositories_metrics.csv\")\n",
    "\n",
    "# Perform matching and create the plot\n",
    "platform_analysis.propensity_score_matching(df_github, df_gitlab, \"GitHub\", Metrics.COMMIT.value, [\"#branches\", \"size\", \"#contributors\", \"created\"]) #ajouter les dates de création"
   ],
   "id": "6ab602f382f7a11a",
   "outputs": [],
   "execution_count": null
  },
  {
   "metadata": {},
   "cell_type": "code",
   "source": [
    "# Load Data\n",
    "df_github = pd.read_csv(\"Github_data/github_repositories_metrics.csv\")\n",
    "df_gitea = pd.read_csv(\"Gitea_data/gitea_repositories_metrics.csv\")\n",
    "\n",
    "# Perform matching and create the plot\n",
    "platform_analysis.propensity_score_matching(df_github, df_gitea, \"GitHub\", Metrics.COMMIT.value, [\"#branches\", \"size\", \"#contributors\", \"created\"]) #ajouter les dates de création"
   ],
   "id": "26902c378a8d53d9",
   "outputs": [],
   "execution_count": null
  },
  {
   "metadata": {},
   "cell_type": "code",
   "source": [
    "# Load Data\n",
    "df_github = pd.read_csv(\"Github_data/github_repositories_metrics.csv\")\n",
    "df_forgejo = pd.read_csv(\"Forgejo_data/forgejo_repositories_metrics.csv\")\n",
    "\n",
    "# Perform matching and create the plot\n",
    "platform_analysis.propensity_score_matching(df_github, df_forgejo, \"GitHub\", Metrics.COMMIT.value, [\"#branches\", \"size\", \"#contributors\", \"created\"]) #ajouter les dates de création"
   ],
   "id": "2e1f73677e4f05c3",
   "outputs": [],
   "execution_count": null
  },
  {
   "metadata": {},
   "cell_type": "code",
   "source": [
    "# Load Data\n",
    "df_gitlab = pd.read_csv(\"Gitlab_data/gitlab_repositories_metrics.csv\")\n",
    "df_gitea = pd.read_csv(\"Gitea_data/gitea_repositories_metrics.csv\")\n",
    "\n",
    "# Perform matching and create the plot\n",
    "platform_analysis.propensity_score_matching(df_gitlab, df_gitea, \"GitLab\", Metrics.COMMIT.value, [\"#branches\", \"size\", \"#contributors\", \"created\"]) #ajouter les dates de création"
   ],
   "id": "b17a635d8ed5da39",
   "outputs": [],
   "execution_count": null
  },
  {
   "metadata": {},
   "cell_type": "code",
   "source": [
    "# Load Data\n",
    "df_gitlab = pd.read_csv(\"Gitlab_data/gitlab_repositories_metrics.csv\")\n",
    "df_forgejo = pd.read_csv(\"Forgejo_data/forgejo_repositories_metrics.csv\")\n",
    "\n",
    "# Perform matching and create the plot\n",
    "platform_analysis.propensity_score_matching(df_gitlab, df_forgejo, \"GitLab\", Metrics.COMMIT.value, [\"#branches\", \"size\", \"#contributors\", \"created\"]) #ajouter les dates de création"
   ],
   "id": "d3c8ebb75f5de01d",
   "outputs": [],
   "execution_count": null
  },
  {
   "metadata": {},
   "cell_type": "code",
   "source": [
    "# Load Data\n",
    "df_gitea = pd.read_csv(\"Gitea_data/gitea_repositories_metrics.csv\")\n",
    "df_forgejo = pd.read_csv(\"Forgejo_data/forgejo_repositories_metrics.csv\")\n",
    "\n",
    "# Perform matching and create the plot\n",
    "platform_analysis.propensity_score_matching(df_gitea, df_forgejo, \"Gitea\", Metrics.COMMIT.value, [\"#branches\", \"size\", \"#contributors\", \"created\"]) #ajouter les dates de création"
   ],
   "id": "f64098adc79400ac",
   "outputs": [],
   "execution_count": null
  },
  {
   "metadata": {},
   "cell_type": "markdown",
   "source": "## Contributors",
   "id": "a2541353adfaf4a2"
  },
  {
   "metadata": {},
   "cell_type": "code",
   "source": [
    "# Load Data\n",
    "df_github = pd.read_csv(\"Github_data/github_repositories_metrics.csv\")\n",
    "df_gitlab = pd.read_csv(\"Gitlab_data/gitlab_repositories_metrics.csv\")\n",
    "df_gitea = pd.read_csv(\"Gitea_data/gitea_repositories_metrics.csv\")\n",
    "df_forgejo = pd.read_csv(\"Forgejo_data/forgejo_repositories_metrics.csv\")\n",
    "\n",
    "# Create the plot\n",
    "platform_analysis.plot_numeric_distribution(df_github, df_gitlab, df_gitea, df_forgejo, Metrics.CONTRIBUTOR)"
   ],
   "id": "b797040f26b478cd",
   "outputs": [],
   "execution_count": null
  },
  {
   "metadata": {},
   "cell_type": "code",
   "source": [
    "# Load Data\n",
    "df_github = pd.read_csv(\"Github_data/github_repositories_metrics.csv\")\n",
    "df_gitlab = pd.read_csv(\"Gitlab_data/gitlab_repositories_metrics.csv\")\n",
    "\n",
    "# Perform matching and create the plot\n",
    "platform_analysis.propensity_score_matching(df_github, df_gitlab, \"GitHub\", Metrics.CONTRIBUTOR.value, [\"#branches\", \"size\", \"#commits\", \"created\"]) #ajouter les dates de création"
   ],
   "id": "ed11e1610d72f277",
   "outputs": [],
   "execution_count": null
  },
  {
   "metadata": {},
   "cell_type": "code",
   "source": [
    "# Load Data\n",
    "df_github = pd.read_csv(\"Github_data/github_repositories_metrics.csv\")\n",
    "df_gitea = pd.read_csv(\"Gitea_data/gitea_repositories_metrics.csv\")\n",
    "\n",
    "# Perform matching and create the plot\n",
    "platform_analysis.propensity_score_matching(df_github, df_gitea, \"GitHub\", Metrics.CONTRIBUTOR.value, [\"#branches\", \"size\", \"#commits\", \"created\"]) #ajouter les dates de création"
   ],
   "id": "400585e4df4921df",
   "outputs": [],
   "execution_count": null
  },
  {
   "metadata": {},
   "cell_type": "code",
   "source": [
    "# Load Data\n",
    "df_1 = pd.read_csv(\"Github_data/github_repositories_metrics.csv\")\n",
    "df_2 = pd.read_csv(\"Forgejo_data/forgejo_repositories_metrics.csv\")\n",
    "\n",
    "# Perform matching and create the plot\n",
    "platform_analysis.propensity_score_matching(df_1, df_2, \"GitHub\", Metrics.CONTRIBUTOR.value, [\"#branches\", \"size\", \"#commits\", \"created\"]) #ajouter les dates de création"
   ],
   "id": "8a4e4541ea61dc20",
   "outputs": [],
   "execution_count": null
  },
  {
   "metadata": {},
   "cell_type": "code",
   "source": [
    "# Load Data\n",
    "df_1 = pd.read_csv(\"Gitlab_data/gitlab_repositories_metrics.csv\")\n",
    "df_2 = pd.read_csv(\"Forgejo_data/forgejo_repositories_metrics.csv\")\n",
    "\n",
    "# Perform matching and create the plot\n",
    "platform_analysis.propensity_score_matching(df_1, df_2, \"GitLab\", Metrics.CONTRIBUTOR.value, [\"#branches\", \"size\", \"#commits\", \"created\"]) #ajouter les dates de création"
   ],
   "id": "8a899e63d6ba94bc",
   "outputs": [],
   "execution_count": null
  },
  {
   "metadata": {},
   "cell_type": "code",
   "source": [
    "# Load Data\n",
    "df_1 = pd.read_csv(\"Gitlab_data/gitlab_repositories_metrics.csv\")\n",
    "df_2 = pd.read_csv(\"Gitea_data/gitea_repositories_metrics.csv\")\n",
    "\n",
    "# Perform matching and create the plot\n",
    "platform_analysis.propensity_score_matching(df_1, df_2, \"GitLab\", Metrics.CONTRIBUTOR.value, [\"#branches\", \"size\", \"#commits\", \"created\"]) #ajouter les dates de création"
   ],
   "id": "e26a4bd0717266a9",
   "outputs": [],
   "execution_count": null
  },
  {
   "metadata": {},
   "cell_type": "code",
   "source": [
    "# Load Data\n",
    "df_1 = pd.read_csv(\"Gitea_data/gitea_repositories_metrics.csv\")\n",
    "df_2 = pd.read_csv(\"Forgejo_data/forgejo_repositories_metrics.csv\")\n",
    "\n",
    "# Perform matching and create the plot\n",
    "platform_analysis.propensity_score_matching(df_1, df_2, \"Gitea\", Metrics.CONTRIBUTOR.value, [\"#branches\", \"size\", \"#commits\", \"created\"]) #ajouter les dates de création"
   ],
   "id": "e96b0796104726cb",
   "outputs": [],
   "execution_count": null
  },
  {
   "metadata": {},
   "cell_type": "markdown",
   "source": "## Test en réduisant la quantité d'input pour le matching",
   "id": "f4f7442e5df8b50a"
  },
  {
   "metadata": {},
   "cell_type": "code",
   "source": [
    "from sklearn.utils import shuffle\n",
    "\n",
    "# Load Data\n",
    "df_github = pd.read_csv(\"Github_data/github_repositories_metrics.csv\")\n",
    "df_gitlab = pd.read_csv(\"Gitlab_data/gitlab_repositories_metrics.csv\")\n",
    "\n",
    "# Shuffle and take a subsample of 750 rows\n",
    "df_github = shuffle(df_github, random_state=42).sample(n=750)\n",
    "df_gitlab = shuffle(df_gitlab, random_state=42).sample(n=750)\n",
    "\n",
    "# Perform matching and create the plot\n",
    "platform_analysis.propensity_score_matching(df_github, df_gitlab, \"GitHub\", Metrics.CONTRIBUTOR.value, [\"#branches\", \"size\", \"#commits\", \"created\"]) #ajouter les dates de création"
   ],
   "id": "d4dc9d4bd612c962",
   "outputs": [],
   "execution_count": null
  },
  {
   "metadata": {},
   "cell_type": "code",
   "source": [
    "from sklearn.utils import shuffle\n",
    "\n",
    "# Load Data\n",
    "df_github = pd.read_csv(\"Github_data/github_repositories_metrics.csv\")\n",
    "df_gitlab = pd.read_csv(\"Gitlab_data/gitlab_repositories_metrics.csv\")\n",
    "\n",
    "# Shuffle and take a subsample of 750 rows\n",
    "df_github = shuffle(df_github, random_state=42).sample(n=500)\n",
    "df_gitlab = shuffle(df_gitlab, random_state=42).sample(n=500)\n",
    "\n",
    "# Perform matching and create the plot\n",
    "platform_analysis.propensity_score_matching(df_github, df_gitlab, \"GitHub\", Metrics.CONTRIBUTOR.value, [\"#branches\", \"size\", \"#commits\", \"created\"]) #ajouter les dates de création"
   ],
   "id": "21140aba68865403",
   "outputs": [],
   "execution_count": null
  },
  {
   "metadata": {},
   "cell_type": "code",
   "source": [
    "r# Load Data\n",
    "df_github = pd.read_csv(\"Github_data/github_repositories_metrics.csv\")\n",
    "df_gitea = pd.read_csv(\"Gitea_data/gitea_repositories_metrics.csv\")\n",
    "\n",
    "# Shuffle and take a subsample of 750 rows\n",
    "df_github = shuffle(df_github, random_state=42).sample(n=750)\n",
    "df_gitea = shuffle(df_gitea, random_state=42).sample(n=750)\n",
    "\n",
    "# Perform matching and create the plot\n",
    "platform_analysis.propensity_score_matching(df_github, df_gitea, \"GitHub\", Metrics.CONTRIBUTOR.value, [\"#branches\", \"size\", \"#commits\", \"created\"]) #ajouter les dates de création"
   ],
   "id": "a78a65eea3c292c7",
   "outputs": [],
   "execution_count": null
  },
  {
   "metadata": {},
   "cell_type": "code",
   "source": [
    "# Load Data\n",
    "df_github = pd.read_csv(\"Github_data/github_repositories_metrics.csv\")\n",
    "df_gitea = pd.read_csv(\"Gitea_data/gitea_repositories_metrics.csv\")\n",
    "\n",
    "# Shuffle and take a subsample of 750 rows\n",
    "df_github = shuffle(df_github, random_state=42).sample(n=500)\n",
    "df_gitea = shuffle(df_gitea, random_state=42).sample(n=500)\n",
    "\n",
    "# Perform matching and create the plot\n",
    "platform_analysis.propensity_score_matching(df_github, df_gitea, \"GitHub\", Metrics.CONTRIBUTOR.value, [\"#branches\", \"size\", \"#commits\", \"created\"]) #ajouter les dates de création"
   ],
   "id": "abaab2d566285a4a",
   "outputs": [],
   "execution_count": null
  },
  {
   "metadata": {},
   "cell_type": "code",
   "source": [
    "import requests\n",
    "import matplotlib.pyplot as plt\n",
    "from datetime import datetime\n",
    "import pandas as pd\n",
    "\n",
    "# Step 1: Call the API\n",
    "url = \"https://repos.ecosyste.ms/api/v1/hosts/GitHub/repositories?per_page=100\"\n",
    "response = requests.get(url)\n",
    "\n",
    "# Check for successful response\n",
    "if response.status_code != 200:\n",
    "    raise Exception(f\"API request failed with status code {response.status_code}\")\n",
    "\n",
    "data = response.json()\n",
    "\n",
    "# Step 2: Extract \"last_synced_at\" values\n",
    "last_synced_dates = []\n",
    "for repo in data:\n",
    "    last_synced_at = repo.get(\"last_synced_at\")\n",
    "    if last_synced_at:\n",
    "        # Convert to datetime object\n",
    "        dt = datetime.fromisoformat(last_synced_at.replace(\"Z\", \"+00:00\"))\n",
    "        last_synced_dates.append(dt)\n",
    "\n",
    "# Step 3: Create a plot showing the distribution\n",
    "# We'll use pandas to group by date\n",
    "df = pd.DataFrame({\"last_synced_at\": last_synced_dates})\n",
    "df[\"date_only\"] = df[\"last_synced_at\"].dt.date\n",
    "\n",
    "# Count frequencies by day\n",
    "date_counts = df[\"date_only\"].value_counts().sort_index()\n",
    "\n",
    "# Calculate percentage before 2025\n",
    "cutoff_date = datetime(2025, 1, 1, tzinfo=last_synced_dates[0].tzinfo)  # match timezone\n",
    "total = len(last_synced_dates)\n",
    "before_2025 = sum(dt < cutoff_date for dt in last_synced_dates)\n",
    "percentage = (before_2025 / total) * 100 if total > 0 else 0\n",
    "\n",
    "print(f\"{percentage:.2f}% of repositories have a 'last_synced_at' date before 2025.\")\n",
    "\n",
    "# Plotting\n",
    "plt.figure(figsize=(12, 6))\n",
    "date_counts.plot(kind='bar')\n",
    "plt.xlabel(\"Date\")\n",
    "plt.ylabel(\"Nombre de dépôts\")\n",
    "plt.xticks(rotation=45)\n",
    "plt.tight_layout()\n",
    "#plt.savefig(\"Figures/last_synced_distribution.png\", dpi=300)\n",
    "plt.show()\n"
   ],
   "id": "ea877f45cf81ea38",
   "outputs": [],
   "execution_count": null
  }
 ],
 "metadata": {
  "kernelspec": {
   "name": "python3",
   "language": "python",
   "display_name": "Python 3 (ipykernel)"
  }
 },
 "nbformat": 5,
 "nbformat_minor": 9
}
