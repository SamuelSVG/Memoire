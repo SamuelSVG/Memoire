{
 "cells": [
  {
   "metadata": {},
   "cell_type": "markdown",
   "source": "# Setup cell",
   "id": "2070b3715d8a814c"
  },
  {
   "metadata": {},
   "cell_type": "code",
   "source": [
    "# Setup cell\n",
    "import os\n",
    "\n",
    "from dotenv import load_dotenv\n",
    "import pandas as pd\n",
    "import logging\n",
    "\n",
    "import bitbucket\n",
    "from metrics import Metrics\n",
    "from platform_analysis import get_most_present_owner, get_unique_owner_number\n",
    "from platforms import Platforms\n",
    "import github\n",
    "import gitea_forgejo\n",
    "import gitlab\n",
    "import platform_analysis\n",
    "\n",
    "# Set up logging\n",
    "logging.basicConfig(level=logging.INFO)\n",
    "logger = logging.getLogger(__name__)\n",
    "\n",
    "# Load environment variables from .env file\n",
    "load_dotenv()\n",
    "\n",
    "# Load tokens from environment variables\n",
    "GITHUB_TOKEN = os.getenv(\"GITHUB_TOKEN\")\n",
    "GITLAB_TOKEN = os.getenv(\"GITLAB_TOKEN\")\n",
    "GITEA_TOKEN = os.getenv(\"GITEA_TOKEN\")\n",
    "FORGEJO_TOKEN = os.getenv(\"FORGEJO_TOKEN\")\n",
    "BITBUCKET_TOKEN = os.getenv(\"BITBUCKET_TOKEN\")\n",
    "\n",
    "# Set up headers for API requests\n",
    "GITHUB_HEADERS = {\"Authorization\": f\"token {GITHUB_TOKEN}\"}\n",
    "GITEA_HEADERS = {\"Authorization\": f\"token {GITEA_TOKEN}\"}\n",
    "FORGEJO_HEADERS = {\"Authorization\": f\"token {FORGEJO_TOKEN}\"}\n",
    "GITLAB_HEADERS = {\"Authorization\": f\"Bearer {GITLAB_TOKEN}\"}\n",
    "BITBUCKET_HEADERS = {\"Authorization\": f\"Bearer {BITBUCKET_TOKEN}\"}\n",
    "\n",
    "# Initialize platform instances\n",
    "github_instance = github.GitHub(GITHUB_HEADERS)\n",
    "gitea_instance = gitea_forgejo.GiteaForgejo(GITEA_HEADERS)\n",
    "forgejo_instance = gitea_forgejo.GiteaForgejo(FORGEJO_HEADERS)\n",
    "gitlab_instance = gitlab.Gitlab(GITLAB_HEADERS)\n",
    "bitbucket_instance = bitbucket.Bitbucket(BITBUCKET_HEADERS)"
   ],
   "id": "21541a08591de955",
   "outputs": [],
   "execution_count": null
  },
  {
   "metadata": {},
   "cell_type": "markdown",
   "source": "# Fetching Repositories from Github",
   "id": "7aed5731e871e260"
  },
  {
   "metadata": {},
   "cell_type": "code",
   "source": [
    "# Fetch a given number of GitHub repositories\n",
    "data = github_instance.fetch_repositories(200)\n",
    "file_name = \"Github_data/github_1k_repositories.csv\"\n",
    "\n",
    "# Save the gathered data to a CSV file\n",
    "if data:\n",
    "    df = pd.DataFrame(data)\n",
    "    df.to_csv(file_name, index=False)\n",
    "    logger.info(f\"Saved repositories to '{file_name}'.\")\n",
    "else:\n",
    "    logger.error(\"No repositories were fetched.\")"
   ],
   "id": "41d9d9690dbc0b3e",
   "outputs": [],
   "execution_count": null
  },
  {
   "metadata": {},
   "cell_type": "markdown",
   "source": "### Select Clonable Github repositories and add Git metrics to the dataframe",
   "id": "2e6c93ba8fe8a5c4"
  },
  {
   "metadata": {},
   "cell_type": "code",
   "source": [
    "input_file = \"Github_data/github_1k_repositories.csv\"\n",
    "output_file = \"Github_data/github_repositories_metrics.csv\"\n",
    "# Load the csv file that contains the repositories\n",
    "df = pd.read_csv(input_file)\n",
    "\n",
    "df = github_instance.select_clonable_repositories(df, Platforms.GITHUB, 100)\n",
    "\n",
    "# Save updated CSV\n",
    "df.to_csv(output_file, index=False)\n",
    "logger.info(f\"Done! Updated file saved as {output_file}\")"
   ],
   "id": "d7ba139c7a2b02e8",
   "outputs": [],
   "execution_count": null
  },
  {
   "metadata": {},
   "cell_type": "markdown",
   "source": "### Add Platform specific metrics to the dataframe",
   "id": "19bfd6fd6fbad165"
  },
  {
   "metadata": {},
   "cell_type": "code",
   "source": [
    "input_file = \"Github_data/github_repositories_metrics.csv\"\n",
    "output_file = \"Github_data/github_repositories_metrics.csv\"\n",
    "\n",
    "# Load the csv file that contains the repositories\n",
    "df = pd.read_csv(input_file)\n",
    "\n",
    "# Add a chosen metric for each repository of the DataFrame\n",
    "github_instance.add_metric(df, Metrics.ISSUE)\n",
    "github_instance.add_metric(df, Metrics.PULL_REQUEST)\n",
    "\n",
    "# Save updated CSV\n",
    "df.to_csv(output_file, index=False)\n",
    "logger.info(f\"Done! Updated file saved as {output_file}\")"
   ],
   "id": "d2c3e14073cf7bba",
   "outputs": [],
   "execution_count": null
  },
  {
   "metadata": {},
   "cell_type": "markdown",
   "source": "# Fetching Repositories from Gitea",
   "id": "8060a1724478c99c"
  },
  {
   "metadata": {},
   "cell_type": "code",
   "source": [
    "# Fetch a given number of pages of 50 Gitea repositories\n",
    "data = gitea_instance.fetch_repositories(200, platform=Platforms.GITEA)\n",
    "file_name = \"Gitea_data/gitea_1k_repositories.csv\"\n",
    "\n",
    "# Save the gathered data to a CSV file\n",
    "if data:\n",
    "    df = pd.DataFrame(data)\n",
    "    df.to_csv(file_name, index=False)\n",
    "    logger.info(f\"Saved repositories to '{file_name}'.\")\n",
    "else:\n",
    "    logger.error(\"No repositories were fetched.\")"
   ],
   "id": "38ec13fd063714e",
   "outputs": [],
   "execution_count": null
  },
  {
   "metadata": {},
   "cell_type": "markdown",
   "source": "### Select Clonable Gitea repositories and add Git metrics to the dataframe",
   "id": "c9863d13cb27d62"
  },
  {
   "metadata": {},
   "cell_type": "code",
   "source": [
    "input_file = \"Gitea_data/gitea_10k_repositories.csv\"\n",
    "output_file = \"Gitea_data/gitea_repositories_metrics.csv\"\n",
    "\n",
    "df = pd.read_csv(input_file)\n",
    "df = gitea_instance.select_clonable_repositories(df, Platforms.GITEA, 1000)\n",
    "\n",
    "df.to_csv(output_file, index=False)\n",
    "logger.info(f\"Done! Updated file saved as {output_file}\")"
   ],
   "id": "6826e58eafd32763",
   "outputs": [],
   "execution_count": null
  },
  {
   "metadata": {},
   "cell_type": "markdown",
   "source": "### Add Platform specific metrics to the dataframe",
   "id": "992f9b2e6604d1b9"
  },
  {
   "metadata": {},
   "cell_type": "code",
   "source": [
    "input_file = \"Gitea_data/gitea_repositories_metrics.csv\"\n",
    "output_file = \"Gitea_data/gitea_repositories_metrics.csv\"\n",
    "\n",
    "# Load the csv file that contains the repositories\n",
    "df = pd.read_csv(input_file)\n",
    "\n",
    "# Add chosen metric for each repository of the DataFrame\n",
    "gitea_instance.add_metric(df, Platforms.GITEA, Metrics.ISSUE)\n",
    "gitea_instance.add_metric(df, Platforms.GITEA, Metrics.PULL_REQUEST)\n",
    "\n",
    "# Save updated CSV\n",
    "df.to_csv(output_file, index=False)\n",
    "logger.info(f\"Done! Updated file saved as {output_file}\")"
   ],
   "id": "3021dd8b20b6d5e6",
   "outputs": [],
   "execution_count": null
  },
  {
   "metadata": {},
   "cell_type": "markdown",
   "source": "# Fetching Repositories from Forgejo",
   "id": "b3c24e4d5a4bca14"
  },
  {
   "metadata": {},
   "cell_type": "code",
   "source": [
    "# Fetch a given number of pages of 50 Forgejo repositories\n",
    "data = forgejo_instance.fetch_repositories(200, platform=Platforms.FORGEJO)\n",
    "file_name = \"Forgejo_data/forgejo_1k_repositories.csv\"\n",
    "\n",
    "# Save the gathered data to a CSV file\n",
    "if data:\n",
    "    df = pd.DataFrame(data)\n",
    "    df.to_csv(file_name, index=False)\n",
    "    logger.info(f\"Saved repositories to '{file_name}'.\")\n",
    "else:\n",
    "    logger.error(\"No repositories were fetched.\")"
   ],
   "id": "3ec6b4dc057db312",
   "outputs": [],
   "execution_count": null
  },
  {
   "metadata": {},
   "cell_type": "markdown",
   "source": "### Select Clonable Forgejo repositories and add Git metrics to the dataframe",
   "id": "5841f255ac27038c"
  },
  {
   "metadata": {},
   "cell_type": "code",
   "source": [
    "input_file = \"Forgejo_data/forgejo_10k_repositories.csv\"\n",
    "output_file = \"Forgejo_data/forgejo_1k_repositories.csv\"\n",
    "\n",
    "df = pd.read_csv(input_file)\n",
    "df = forgejo_instance.select_clonable_repositories(df, Platforms.FORGEJO, 1000)\n",
    "\n",
    "df.to_csv(output_file, index=False)\n",
    "logger.info(f\"Done! Updated file saved as {output_file}\")"
   ],
   "id": "dd4b141d31453d86",
   "outputs": [],
   "execution_count": null
  },
  {
   "metadata": {},
   "cell_type": "markdown",
   "source": "### Add Platform specific metrics to the dataframe",
   "id": "78f428751c3e111c"
  },
  {
   "metadata": {},
   "cell_type": "code",
   "source": [
    "input_file = \"Forgejo_data/forgejo_repositories_metrics.csv\"\n",
    "output_file = \"Forgejo_data/forgejo_repositories_metrics.csv\"\n",
    "\n",
    "# Load the csv file that contains the repositories\n",
    "df = pd.read_csv(input_file)\n",
    "\n",
    "# Add chosen metric for each repository of the DataFrame\n",
    "forgejo_instance.add_metric(df, Platforms.FORGEJO, Metrics.ISSUE)\n",
    "forgejo_instance.add_metric(df, Platforms.FORGEJO, Metrics.PULL_REQUEST)\n",
    "\n",
    "# Save updated CSV\n",
    "df.to_csv(output_file, index=False)\n",
    "logger.info(f\"Done! Updated file saved as {output_file}\")"
   ],
   "id": "618c0fc70f98f236",
   "outputs": [],
   "execution_count": null
  },
  {
   "metadata": {},
   "cell_type": "markdown",
   "source": "# Fetching Repositories from Gitlab",
   "id": "9c5b6f715166226f"
  },
  {
   "metadata": {},
   "cell_type": "code",
   "source": [
    "# Fetch a given number of pages of 100 Gitlab repositories\n",
    "data = gitlab_instance.fetch_repositories(200)\n",
    "file_name = \"Gitlab_data/gitlab_1k_repositories.csv\"\n",
    "\n",
    "# Save the gathered data to a CSV file\n",
    "if data:\n",
    "    df = pd.DataFrame(data)\n",
    "    df.to_csv(file_name, index=False)\n",
    "    logger.info(f\"Saved repositories to '{file_name}'.\")\n",
    "else:\n",
    "    logger.error(\"No repositories were fetched.\")"
   ],
   "id": "96f13b47763145cc",
   "outputs": [],
   "execution_count": null
  },
  {
   "metadata": {},
   "cell_type": "markdown",
   "source": "### Select Clonable GitLab repositories and add Git metrics to the dataframe",
   "id": "528d3093a8d79f90"
  },
  {
   "metadata": {},
   "cell_type": "code",
   "source": [
    "input_file = \"Gitlab_data/gitlab_10k_repositories.csv\"\n",
    "output_file = \"Gitlab_data/gitlab_1k_repositories.csv\"\n",
    "\n",
    "df = pd.read_csv(input_file)\n",
    "df = gitlab_instance.select_clonable_repositories(df, Platforms.GITLAB, 1000)\n",
    "\n",
    "df.to_csv(output_file, index=False)\n",
    "logger.info(f\"Done! Updated file saved as {output_file}\")"
   ],
   "id": "3052ca3ead437777",
   "outputs": [],
   "execution_count": null
  },
  {
   "metadata": {},
   "cell_type": "markdown",
   "source": "### Adding Platform specific metrics to the dataframe",
   "id": "19372464b53db075"
  },
  {
   "metadata": {},
   "cell_type": "code",
   "source": [
    "input_file = \"Gitlab_data/gitlab_repositories_metrics.csv\"\n",
    "output_file = \"Gitlab_data/gitlab_repositories_metrics.csv\"\n",
    "\n",
    "# Load the csv file that contains the repositories\n",
    "df = pd.read_csv(input_file)\n",
    "\n",
    "# Add chosen metric for each repository of the DataFrame\n",
    "gitlab_instance.add_metric(df, Metrics.ISSUE)\n",
    "gitlab_instance.add_metric(df, Metrics.PULL_REQUEST)\n",
    "\n",
    "# Save updated CSV\n",
    "df.to_csv(output_file, index=False)\n",
    "logger.info(f\"Done! Updated file saved as {output_file}\")"
   ],
   "id": "e915e4578c285541",
   "outputs": [],
   "execution_count": null
  },
  {
   "metadata": {},
   "cell_type": "markdown",
   "source": "# Fetching Repositories from Bitbucket",
   "id": "8ec67367ba15bb9f"
  },
  {
   "metadata": {},
   "cell_type": "code",
   "source": [
    "# Fetch a given number of pages of 100 Bitbucket repositories\n",
    "data = bitbucket_instance.fetch_repositories(100)\n",
    "file_name = \"Bitbucket_data/bitbucket_10k_repositories.csv\"\n",
    "\n",
    "# Save the gathered data to a CSV file\n",
    "if data:\n",
    "    df = pd.DataFrame(data)\n",
    "    df.to_csv(file_name, index=False)\n",
    "    logger.info(f\"Saved repositories to '{file_name}'.\")\n",
    "else:\n",
    "    logger.error(\"No repositories were fetched.\")"
   ],
   "id": "b8a63f270bf108cb",
   "outputs": [],
   "execution_count": null
  },
  {
   "metadata": {},
   "cell_type": "markdown",
   "source": "### Sample 1000 clonable repositories",
   "id": "5c35ea119672c1cc"
  },
  {
   "metadata": {},
   "cell_type": "code",
   "source": [
    "input_file = \"Bitbucket_data/bitbucket_10k_repositories.csv\"\n",
    "output_file = \"Bitbucket_data/bitbucket_1k_repositories.csv\"\n",
    "\n",
    "df = pd.read_csv(input_file)\n",
    "df = bitbucket_instance.select_clonable_repositories(df, Platforms.BITBUCKET, 1000)\n",
    "\n",
    "df.to_csv(output_file, index=False)\n",
    "logger.info(f\"Done! Updated file saved as {output_file}\")"
   ],
   "id": "adcb0fe96423aa26",
   "outputs": [],
   "execution_count": null
  },
  {
   "metadata": {},
   "cell_type": "markdown",
   "source": "### Cloning Bitbucket repositories and adding Git metrics to the dataframe",
   "id": "abb3360728cf631f"
  },
  {
   "metadata": {},
   "cell_type": "code",
   "source": [
    "input_file = \"Bitbucket_data/bitbucket_10k_repositories.csv\"\n",
    "output_file = \"Bitbucket_data/bitbucket_repositories_metrics.csv\"\n",
    "# Load the csv file that contains the repositories\n",
    "df = pd.read_csv(input_file)\n",
    "\n",
    "df = bitbucket_instance.select_clonable_repositories(df, Platforms.BITBUCKET, 500)\n",
    "\n",
    "# Save updated CSV\n",
    "df.to_csv(output_file, index=False)\n",
    "logger.info(f\"Done! Updated file saved as {output_file}\")"
   ],
   "id": "60b72c8b365e3932",
   "outputs": [],
   "execution_count": null
  },
  {
   "metadata": {},
   "cell_type": "markdown",
   "source": "### Adding Platform specific metrics to the dataframe",
   "id": "dbd1ade672405256"
  },
  {
   "metadata": {},
   "cell_type": "code",
   "source": [
    "input_file = \"Bitbucket_data/bitbucket_repositories_metrics.csv\"\n",
    "output_file = \"Bitbucket_data/bitbucket_repositories_metrics.csv\"\n",
    "\n",
    "# Load the csv file that contains the repositories\n",
    "df = pd.read_csv(input_file)\n",
    "\n",
    "# Add chosen metric for each repository of the DataFrame\n",
    "bitbucket_instance.add_metric(df, Platforms.BITBUCKET, Metrics.STAR)\n",
    "bitbucket_instance.add_metric(df, Platforms.BITBUCKET, Metrics.FORK)\n",
    "bitbucket_instance.add_metric(df, Platforms.BITBUCKET, Metrics.PULL_REQUEST)\n",
    "#bitbucket_instance.add_metric(df, Platforms.BITBUCKET, Metrics.ISSUE)\n",
    "#gitlab_instance.add_metric(df, Metrics.COMMIT)\n",
    "#gitlab_instance.add_metric(df, Metrics.CONTRIBUTOR)\n",
    "#gitlab_instance.add_metric(df, Metrics.LANGUAGE)\n",
    "#gitlab_instance.add_metric(df, Metrics.LICENSE)\n",
    "\n",
    "# Save updated CSV\n",
    "df.to_csv(output_file, index=False)\n",
    "logger.info(f\"Done! Updated file saved as {output_file}\")"
   ],
   "id": "77f0fdc59f1d3692",
   "outputs": [],
   "execution_count": null
  },
  {
   "metadata": {},
   "cell_type": "markdown",
   "source": "# First Statistical analysis of the data",
   "id": "fdbd4b603b10f90a"
  },
  {
   "metadata": {},
   "cell_type": "code",
   "source": [
    "# Load Data\n",
    "df_github = pd.read_csv(\"Github_data/github_1k_repositories.csv\")\n",
    "df_gitlab = pd.read_csv(\"Gitlab_data/gitlab_1k_repositories.csv\")\n",
    "#df_bitbucket = pd.read_csv(\"Bitbucket_data/bitbucket_repositories_metrics.csv\")\n",
    "df_gitea = pd.read_csv(\"Gitea_data/gitea_1k_repositories.csv\")\n",
    "df_forgejo = pd.read_csv(\"Forgejo_data/forgejo_1k_repositories.csv\")\n",
    "\n",
    "#get_clone_error_number(df_github, df_gitlab, df_bitbucket, df_gitea, df_forgejo)\n",
    "get_most_present_owner(df_github, df_gitlab, df_gitea, df_forgejo)\n",
    "get_unique_owner_number(df_github, df_gitlab, df_gitea, df_forgejo)"
   ],
   "id": "20d7dd6997c16009",
   "outputs": [],
   "execution_count": null
  },
  {
   "metadata": {},
   "cell_type": "code",
   "source": [
    "# Load Data\n",
    "df_github = pd.read_csv(\"Github_data/github_repositories_metrics_with_date_bias.csv\")\n",
    "df_gitlab = pd.read_csv(\"Gitlab_data/gitlab_repositories_metrics_with_date_bias.csv\")\n",
    "#df_bitbucket = pd.read_csv(\"Bitbucket_data/bitbucket_repositories_metrics.csv\")\n",
    "df_gitea = pd.read_csv(\"Gitea_data/gitea_repositories_metrics_with_date_bias.csv\")\n",
    "df_forgejo = pd.read_csv(\"Forgejo_data/forgejo_repositories_metrics_with_date_bias.csv\")\n",
    "\n",
    "# Create the plot\n",
    "platform_analysis.plot_step_lines(df_github, df_gitlab, df_gitea, df_forgejo)"
   ],
   "id": "bab0555c6ad78d89",
   "outputs": [],
   "execution_count": null
  },
  {
   "metadata": {},
   "cell_type": "code",
   "source": [
    "# Load Data\n",
    "df_github = pd.read_csv(\"Github_data/github_1k_repositories.csv\")\n",
    "df_gitlab = pd.read_csv(\"Gitlab_data/gitlab_1k_repositories.csv\")\n",
    "#df_bitbucket = pd.read_csv(\"Bitbucket_data/bitbucket_repositories_metrics.csv\")\n",
    "df_gitea = pd.read_csv(\"Gitea_data/gitea_1k_repositories.csv\")\n",
    "df_forgejo = pd.read_csv(\"Forgejo_data/forgejo_1k_repositories.csv\")\n",
    "\n",
    "# Create the plot\n",
    "platform_analysis.plot_step_lines(df_github, df_gitlab, df_gitea, df_forgejo)"
   ],
   "id": "d00c0297bfa7dcf5",
   "outputs": [],
   "execution_count": null
  },
  {
   "metadata": {},
   "cell_type": "code",
   "source": [
    "# Load Data\n",
    "df_github = pd.read_csv(\"Github_data/github_repositories_metrics.csv\")\n",
    "df_gitlab = pd.read_csv(\"Gitlab_data/gitlab_repositories_metrics.csv\")\n",
    "df_bitbucket = pd.read_csv(\"Bitbucket_data/bitbucket_repositories_metrics.csv\")\n",
    "df_gitea = pd.read_csv(\"Gitea_data/gitea_repositories_metrics.csv\")\n",
    "df_forgejo = pd.read_csv(\"Forgejo_data/forgejo_repositories_metrics.csv\")\n",
    "\n",
    "# Create the plot\n",
    "platform_analysis.plot_alphanumeric_distribution(Metrics.MAIN_LANGUAGE,df_github, df_gitlab, df_bitbucket, df_gitea, df_forgejo)"
   ],
   "id": "85ee213550aafceb",
   "outputs": [],
   "execution_count": null
  },
  {
   "metadata": {},
   "cell_type": "code",
   "source": [
    "# Load Data\n",
    "df_github = pd.read_csv(\"Github_data/github_repositories_metrics.csv\")\n",
    "df_gitlab = pd.read_csv(\"Gitlab_data/gitlab_repositories_metrics.csv\")\n",
    "df_bitbucket = pd.read_csv(\"Bitbucket_data/bitbucket_repositories_metrics.csv\")\n",
    "df_gitea = pd.read_csv(\"Gitea_data/gitea_repositories_metrics.csv\")\n",
    "df_forgejo = pd.read_csv(\"Forgejo_data/forgejo_repositories_metrics.csv\")\n",
    "\n",
    "# Create the plot\n",
    "platform_analysis.plot_alphanumeric_distribution(Metrics.LANGUAGE_DISTRIBUTION,df_github, df_gitlab, df_bitbucket, df_gitea, df_forgejo)"
   ],
   "id": "51b0cf04ad4e1076",
   "outputs": [],
   "execution_count": null
  },
  {
   "metadata": {},
   "cell_type": "code",
   "source": [
    "# Load Data\n",
    "df_github = pd.read_csv(\"Github_data/github_repositories_metrics.csv\")\n",
    "df_gitlab = pd.read_csv(\"Gitlab_data/gitlab_repositories_metrics.csv\")\n",
    "df_bitbucket = pd.read_csv(\"Bitbucket_data/bitbucket_repositories_metrics.csv\")\n",
    "df_gitea = pd.read_csv(\"Gitea_data/gitea_repositories_metrics.csv\")\n",
    "df_forgejo = pd.read_csv(\"Forgejo_data/forgejo_repositories_metrics.csv\")\n",
    "\n",
    "# Create the plot\n",
    "platform_analysis.plot_alphanumeric_distribution(Metrics.LICENSE,df_github, df_gitlab, df_bitbucket, df_gitea, df_forgejo)"
   ],
   "id": "c477015d1eeada47",
   "outputs": [],
   "execution_count": null
  },
  {
   "metadata": {},
   "cell_type": "code",
   "source": [
    "# Load Data\n",
    "df_github = pd.read_csv(\"Github_data/github_repositories_metrics_with_date_bias.csv\")\n",
    "df_gitlab = pd.read_csv(\"Gitlab_data/gitlab_repositories_metrics_with_date_bias.csv\")\n",
    "df_bitbucket = pd.read_csv(\"Bitbucket_data/bitbucket_repositories_metrics_with_date_bias.csv\")\n",
    "df_gitea = pd.read_csv(\"Gitea_data/gitea_repositories_metrics_with_date_bias.csv\")\n",
    "df_forgejo = pd.read_csv(\"Forgejo_data/forgejo_repositories_metrics_with_date_bias.csv\")\n",
    "\n",
    "# Create the plot\n",
    "platform_analysis.plot_numeric_distribution(df_github, df_gitlab, df_bitbucket, df_gitea, df_forgejo, Metrics.COMMIT)"
   ],
   "id": "985559b68a9ab9c5",
   "outputs": [],
   "execution_count": null
  },
  {
   "metadata": {},
   "cell_type": "code",
   "source": [
    "# Load Data\n",
    "df_github = pd.read_csv(\"Github_data/github_repositories_metrics.csv\")\n",
    "df_gitlab = pd.read_csv(\"Gitlab_data/gitlab_repositories_metrics.csv\")\n",
    "df_bitbucket = pd.read_csv(\"Bitbucket_data/bitbucket_repositories_metrics.csv\")\n",
    "df_gitea = pd.read_csv(\"Gitea_data/gitea_repositories_metrics.csv\")\n",
    "df_forgejo = pd.read_csv(\"Forgejo_data/forgejo_repositories_metrics.csv\")\n",
    "\n",
    "# Create the plot\n",
    "platform_analysis.plot_numeric_distribution(df_github, df_gitlab, df_bitbucket, df_gitea, df_forgejo, Metrics.SIZE)"
   ],
   "id": "190de7a9e84ec31",
   "outputs": [],
   "execution_count": null
  },
  {
   "metadata": {},
   "cell_type": "code",
   "source": [
    "# Load Data\n",
    "df_github = pd.read_csv(\"Github_data/github_repositories_metrics.csv\")\n",
    "df_gitlab = pd.read_csv(\"Gitlab_data/gitlab_repositories_metrics.csv\")\n",
    "df_bitbucket = pd.read_csv(\"Bitbucket_data/bitbucket_repositories_metrics.csv\")\n",
    "df_gitea = pd.read_csv(\"Gitea_data/gitea_repositories_metrics.csv\")\n",
    "df_forgejo = pd.read_csv(\"Forgejo_data/forgejo_repositories_metrics.csv\")\n",
    "\n",
    "# Create the plot\n",
    "platform_analysis.plot_numeric_distribution(df_github, df_gitlab, df_bitbucket, df_gitea, df_forgejo, Metrics.CONTRIBUTOR)"
   ],
   "id": "85428f46190149b6",
   "outputs": [],
   "execution_count": null
  },
  {
   "metadata": {},
   "cell_type": "code",
   "source": [
    "# Load Data\n",
    "df_github = pd.read_csv(\"Github_data/github_repositories_metrics.csv\")\n",
    "df_gitlab = pd.read_csv(\"Gitlab_data/gitlab_repositories_metrics.csv\")\n",
    "df_bitbucket = pd.read_csv(\"Bitbucket_data/bitbucket_repositories_metrics.csv\")\n",
    "df_gitea = pd.read_csv(\"Gitea_data/gitea_repositories_metrics.csv\")\n",
    "df_forgejo = pd.read_csv(\"Forgejo_data/forgejo_repositories_metrics.csv\")\n",
    "\n",
    "# Create the plot\n",
    "platform_analysis.plot_numeric_distribution(df_github, df_gitlab, df_bitbucket, df_gitea, df_forgejo, Metrics.BRANCH)"
   ],
   "id": "ed1398ee31d21d6f",
   "outputs": [],
   "execution_count": null
  },
  {
   "metadata": {},
   "cell_type": "code",
   "source": [
    "# Load Data\n",
    "df_github = pd.read_csv(\"Github_data/github_repositories_metrics.csv\")\n",
    "df_gitlab = pd.read_csv(\"Gitlab_data/gitlab_repositories_metrics.csv\")\n",
    "df_bitbucket = pd.read_csv(\"Bitbucket_data/bitbucket_repositories_metrics.csv\")\n",
    "df_gitea = pd.read_csv(\"Gitea_data/gitea_repositories_metrics.csv\")\n",
    "df_forgejo = pd.read_csv(\"Forgejo_data/forgejo_repositories_metrics.csv\")\n",
    "\n",
    "# Create the plot\n",
    "platform_analysis.plot_numeric_distribution(df_github, df_gitlab, df_bitbucket, df_gitea, df_forgejo, Metrics.ISSUE)"
   ],
   "id": "5855ce3b937bec2a",
   "outputs": [],
   "execution_count": null
  },
  {
   "metadata": {},
   "cell_type": "code",
   "source": [
    "# Load Data\n",
    "df_github = pd.read_csv(\"Github_data/github_repositories_metrics.csv\")\n",
    "df_gitlab = pd.read_csv(\"Gitlab_data/gitlab_repositories_metrics.csv\")\n",
    "df_bitbucket = pd.read_csv(\"Bitbucket_data/bitbucket_repositories_metrics.csv\")\n",
    "df_gitea = pd.read_csv(\"Gitea_data/gitea_repositories_metrics.csv\")\n",
    "df_forgejo = pd.read_csv(\"Forgejo_data/forgejo_repositories_metrics.csv\")\n",
    "\n",
    "# Create the plot\n",
    "platform_analysis.plot_numeric_distribution(df_github, df_gitlab, df_bitbucket, df_gitea, df_forgejo, Metrics.PULL_REQUEST)"
   ],
   "id": "e1709089c8a4ba3f",
   "outputs": [],
   "execution_count": null
  },
  {
   "metadata": {},
   "cell_type": "code",
   "source": [
    "# Load Data\n",
    "df_github = pd.read_csv(\"Github_data/github_repositories_metrics.csv\")\n",
    "df_gitlab = pd.read_csv(\"Gitlab_data/gitlab_repositories_metrics.csv\")\n",
    "df_bitbucket = pd.read_csv(\"Bitbucket_data/bitbucket_repositories_metrics.csv\")\n",
    "df_gitea = pd.read_csv(\"Gitea_data/gitea_repositories_metrics.csv\")\n",
    "df_forgejo = pd.read_csv(\"Forgejo_data/forgejo_repositories_metrics.csv\")\n",
    "\n",
    "# Create the plot\n",
    "platform_analysis.plot_numeric_distribution(df_github, df_gitlab, df_bitbucket, df_gitea, df_forgejo, Metrics.UPDATED)"
   ],
   "id": "509a0d5864582b16",
   "outputs": [],
   "execution_count": null
  },
  {
   "metadata": {},
   "cell_type": "markdown",
   "source": "# Correlation between our metrics",
   "id": "ab669a9f38bb2524"
  },
  {
   "metadata": {},
   "cell_type": "code",
   "source": [
    "# Load Data\n",
    "df_github = pd.read_csv(\"Github_data/github_repositories_metrics.csv\")\n",
    "df_gitlab = pd.read_csv(\"Gitlab_data/gitlab_repositories_metrics.csv\")\n",
    "df_bitbucket = pd.read_csv(\"Bitbucket_data/bitbucket_repositories_metrics.csv\")\n",
    "df_gitea = pd.read_csv(\"Gitea_data/gitea_repositories_metrics.csv\")\n",
    "df_forgejo = pd.read_csv(\"Forgejo_data/forgejo_repositories_metrics.csv\")\n",
    "\n",
    "print(\"GITHUB\")\n",
    "platform_analysis.create_correlation_matrix(df_github)\n",
    "print(\"GITLAB\")\n",
    "platform_analysis.create_correlation_matrix(df_gitlab)\n",
    "print(\"BITBUCKET\")\n",
    "platform_analysis.create_correlation_matrix(df_bitbucket)\n",
    "print(\"GITEA\")\n",
    "platform_analysis.create_correlation_matrix(df_gitea)\n",
    "print(\"FORGEJO\")\n",
    "platform_analysis.create_correlation_matrix(df_forgejo)"
   ],
   "id": "2d6c1229c96499af",
   "outputs": [],
   "execution_count": null
  },
  {
   "metadata": {},
   "cell_type": "code",
   "source": [
    "# Load Data\n",
    "df_github = pd.read_csv(\"Github_data/github_repositories_metrics.csv\")\n",
    "df_gitlab = pd.read_csv(\"Gitlab_data/gitlab_repositories_metrics.csv\")\n",
    "df_bitbucket = pd.read_csv(\"Bitbucket_data/bitbucket_repositories_metrics.csv\")\n",
    "df_gitea = pd.read_csv(\"Gitea_data/gitea_repositories_metrics.csv\")\n",
    "df_forgejo = pd.read_csv(\"Forgejo_data/forgejo_repositories_metrics.csv\")\n",
    "\n",
    "print(\"GITHUB\")\n",
    "platform_analysis.plot_lorenz_curve(df_github['#commits'])\n",
    "print(\"GITLAB\")\n",
    "platform_analysis.plot_lorenz_curve(df_gitlab['#commits'])\n",
    "print(\"BITBUCKET\")\n",
    "platform_analysis.plot_lorenz_curve(df_bitbucket['#commits'])\n",
    "print(\"GITEA\")\n",
    "platform_analysis.plot_lorenz_curve(df_gitea['#commits'])\n",
    "print(\"FORGEJO\")\n",
    "platform_analysis.plot_lorenz_curve(df_forgejo['#commits'])"
   ],
   "id": "9b67e1c5bd0593bf",
   "outputs": [],
   "execution_count": null
  },
  {
   "metadata": {},
   "cell_type": "markdown",
   "source": "# Statistical analysis using propensity score matching",
   "id": "ef2b4ab7cdac8f40"
  },
  {
   "metadata": {},
   "cell_type": "markdown",
   "source": "### Size comparison",
   "id": "b13acf09398c7fa9"
  },
  {
   "metadata": {},
   "cell_type": "code",
   "source": [
    "# Load Data\n",
    "df_github = pd.read_csv(\"Github_data/github_repositories_metrics_with_date_bias.csv\")\n",
    "df_gitlab = pd.read_csv(\"Gitlab_data/gitlab_repositories_metrics_with_date_bias.csv\")\n",
    "\n",
    "# Perform matching and create the plot\n",
    "platform_analysis.propensity_score_matching(df_github, df_gitlab, Metrics.CONTRIBUTOR, with_replacement=True)"
   ],
   "id": "305396ae05962b0e",
   "outputs": [],
   "execution_count": null
  },
  {
   "metadata": {},
   "cell_type": "code",
   "source": [
    "# Load Data\n",
    "df_github = pd.read_csv(\"Github_data/github_repositories_metrics_with_date_bias.csv\")\n",
    "df_gitlab = pd.read_csv(\"Gitlab_data/gitlab_repositories_metrics_with_date_bias.csv\")\n",
    "\n",
    "df = pd.concat([df_github, df_gitlab], ignore_index=True)\n",
    "# Perform matching and create the plot\n",
    "platform_analysis.run_psm_analysis(df, covariates=[\"#branches\", \"#contributors\", \"size\"]) #ajouter les dates de création"
   ],
   "id": "4541ae8235348c9d",
   "outputs": [],
   "execution_count": null
  },
  {
   "metadata": {},
   "cell_type": "code",
   "source": [
    "# Load Data\n",
    "df_github = pd.read_csv(\"Github_data/github_repositories_metrics.csv\")\n",
    "df_bitbucket = pd.read_csv(\"Bitbucket_data/bitbucket_repositories_metrics.csv\")\n",
    "\n",
    "# Perform matching and create the plot\n",
    "platform_analysis.propensity_score_matching(df_github, df_bitbucket, Metrics.SIZE, scale=\"log\", max_difference=0.1)"
   ],
   "id": "a518ceed80a18554",
   "outputs": [],
   "execution_count": null
  },
  {
   "metadata": {},
   "cell_type": "code",
   "source": [
    "# Load Data\n",
    "df_github = pd.read_csv(\"Github_data/github_repositories_metrics.csv\")\n",
    "df_gitea = pd.read_csv(\"Gitea_data/gitea_repositories_metrics.csv\")\n",
    "\n",
    "# Perform matching and create the plot\n",
    "platform_analysis.propensity_score_matching(df_github, df_gitea, Metrics.SIZE, scale=\"log\", max_difference=0.1)"
   ],
   "id": "891e48d548041f31",
   "outputs": [],
   "execution_count": null
  },
  {
   "metadata": {},
   "cell_type": "code",
   "source": [
    "# Load Data\n",
    "df_github = pd.read_csv(\"Github_data/github_repositories_metrics.csv\")\n",
    "df_forgejo = pd.read_csv(\"Forgejo_data/forgejo_repositories_metrics.csv\")\n",
    "\n",
    "# Perform matching and create the plot\n",
    "platform_analysis.propensity_score_matching(df_github, df_forgejo, Metrics.SIZE, scale=\"log\", max_difference=0.1)"
   ],
   "id": "b579dc1773845e89",
   "outputs": [],
   "execution_count": null
  },
  {
   "metadata": {},
   "cell_type": "markdown",
   "source": "### Commit comparison",
   "id": "fa26e4d1d253c772"
  },
  {
   "metadata": {},
   "cell_type": "code",
   "source": [
    "# Load Data\n",
    "df_github = pd.read_csv(\"Github_data/github_repositories_metrics.csv\")\n",
    "df_gitlab = pd.read_csv(\"Gitlab_data/gitlab_repositories_metrics.csv\")\n",
    "\n",
    "# Perform matching and create the plot\n",
    "platform_analysis.propensity_score_matching(df_github, df_gitlab, Metrics.COMMIT, scale=\"log\", max_difference=0.1)"
   ],
   "id": "effe13a49a29afd8",
   "outputs": [],
   "execution_count": null
  },
  {
   "metadata": {},
   "cell_type": "code",
   "source": [
    "# Load Data\n",
    "df_github = pd.read_csv(\"Github_data/github_repositories_metrics.csv\")\n",
    "df_bitbucket = pd.read_csv(\"Bitbucket_data/bitbucket_repositories_metrics.csv\")\n",
    "\n",
    "# Perform matching and create the plot\n",
    "platform_analysis.propensity_score_matching(df_github, df_bitbucket, Metrics.COMMIT, scale=\"log\", max_difference=0.1)"
   ],
   "id": "e0c44cc20a806609",
   "outputs": [],
   "execution_count": null
  },
  {
   "metadata": {},
   "cell_type": "code",
   "source": [
    "# Load Data\n",
    "df_github = pd.read_csv(\"Github_data/github_repositories_metrics.csv\")\n",
    "df_gitea = pd.read_csv(\"Gitea_data/gitea_repositories_metrics.csv\")\n",
    "\n",
    "# Perform matching and create the plot\n",
    "platform_analysis.propensity_score_matching(df_github, df_gitea, Metrics.COMMIT, scale=\"log\", max_difference=0.1)"
   ],
   "id": "98dde0b2588041",
   "outputs": [],
   "execution_count": null
  },
  {
   "metadata": {},
   "cell_type": "code",
   "source": [
    "# Load Data\n",
    "df_github = pd.read_csv(\"Github_data/github_repositories_metrics.csv\")\n",
    "df_forgejo = pd.read_csv(\"Forgejo_data/forgejo_repositories_metrics.csv\")\n",
    "\n",
    "# Perform matching and create the plot\n",
    "platform_analysis.propensity_score_matching(df_github, df_forgejo, Metrics.COMMIT, scale=\"log\", max_difference=0.1)"
   ],
   "id": "47b96a338b2f831b",
   "outputs": [],
   "execution_count": null
  },
  {
   "metadata": {},
   "cell_type": "markdown",
   "source": "### Issue comparison",
   "id": "b6a226927fd2b1f8"
  },
  {
   "metadata": {},
   "cell_type": "code",
   "source": [
    "# Load Data\n",
    "df_github = pd.read_csv(\"Github_data/github_repositories_metrics.csv\")\n",
    "df_gitlab = pd.read_csv(\"Gitlab_data/gitlab_repositories_metrics.csv\")\n",
    "\n",
    "# Perform matching and create the plot\n",
    "platform_analysis.propensity_score_matching(df_github, df_gitlab, Metrics.ISSUE, scale=\"log\", max_difference=0.1)"
   ],
   "id": "90d43a9d61121fe4",
   "outputs": [],
   "execution_count": null
  },
  {
   "metadata": {},
   "cell_type": "code",
   "source": [
    "# Load Data\n",
    "df_github = pd.read_csv(\"Github_data/github_repositories_metrics.csv\")\n",
    "df_gitea = pd.read_csv(\"Gitea_data/gitea_repositories_metrics.csv\")\n",
    "\n",
    "# Perform matching and create the plot\n",
    "platform_analysis.propensity_score_matching(df_github, df_gitea, Metrics.ISSUE, scale=\"log\", max_difference=0.1)"
   ],
   "id": "546c54f1e106a09d",
   "outputs": [],
   "execution_count": null
  },
  {
   "metadata": {},
   "cell_type": "code",
   "source": [
    "# Load Data\n",
    "df_github = pd.read_csv(\"Github_data/github_repositories_metrics.csv\")\n",
    "df_forgejo = pd.read_csv(\"Forgejo_data/forgejo_repositories_metrics.csv\")\n",
    "\n",
    "# Perform matching and create the plot\n",
    "platform_analysis.propensity_score_matching(df_github, df_forgejo, Metrics.ISSUE, scale=\"log\", max_difference=0.1)"
   ],
   "id": "89fa61ebe355d10",
   "outputs": [],
   "execution_count": null
  },
  {
   "metadata": {},
   "cell_type": "markdown",
   "source": "### Pull request comparison",
   "id": "667668be49aeda4c"
  },
  {
   "metadata": {},
   "cell_type": "code",
   "source": [
    "# Load Data\n",
    "df_github = pd.read_csv(\"Github_data/github_repositories_metrics.csv\")\n",
    "df_gitlab = pd.read_csv(\"Gitlab_data/gitlab_repositories_metrics.csv\")\n",
    "\n",
    "# Perform matching and create the plot\n",
    "platform_analysis.propensity_score_matching(df_github, df_gitlab, Metrics.PULL_REQUEST, scale=\"log\", max_difference=0.1)"
   ],
   "id": "b0547e332482d2c7",
   "outputs": [],
   "execution_count": null
  },
  {
   "metadata": {},
   "cell_type": "code",
   "source": [
    "# Load Data\n",
    "df_github = pd.read_csv(\"Github_data/github_repositories_metrics.csv\")\n",
    "df_gitea = pd.read_csv(\"Gitea_data/gitea_repositories_metrics.csv\")\n",
    "\n",
    "# Perform matching and create the plot\n",
    "platform_analysis.propensity_score_matching(df_github, df_gitea, Metrics.PULL_REQUEST, scale=\"linear\", max_difference=0.1)"
   ],
   "id": "6493ef8210fcb57",
   "outputs": [],
   "execution_count": null
  },
  {
   "metadata": {},
   "cell_type": "code",
   "source": [
    "# Load Data\n",
    "df_github = pd.read_csv(\"Github_data/github_repositories_metrics.csv\")\n",
    "df_forgejo = pd.read_csv(\"Forgejo_data/forgejo_repositories_metrics.csv\")\n",
    "\n",
    "# Perform matching and create the plot\n",
    "platform_analysis.propensity_score_matching(df_github, df_forgejo, Metrics.PULL_REQUEST, scale=\"log\", max_difference=0.1)"
   ],
   "id": "a11665779ece397f",
   "outputs": [],
   "execution_count": null
  }
 ],
 "metadata": {
  "kernelspec": {
   "name": "python3",
   "language": "python",
   "display_name": "Python 3 (ipykernel)"
  }
 },
 "nbformat": 5,
 "nbformat_minor": 9
}
